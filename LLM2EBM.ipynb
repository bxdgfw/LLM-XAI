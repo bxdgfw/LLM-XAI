{
 "cells": [
  {
   "cell_type": "code",
   "execution_count": 1,
   "metadata": {},
   "outputs": [],
   "source": [
    "import os\n",
    "import openai\n",
    "openai.api_key = os.getenv(\"OPENAI_API_KEY\")\n",
    "openai.api_base=\"https://api.jarvis73.com/v1\"\n",
    "openai.organization = os.getenv(\"Organization ID\")\n",
    "#os.environ[\"OPENAI_API_KEY\"] = \"\""
   ]
  },
  {
   "cell_type": "code",
   "execution_count": 2,
   "metadata": {},
   "outputs": [],
   "source": [
    "import t2ebm\n",
    "import guidance\n",
    "\n",
    "import numpy as np\n",
    "import pandas as pd\n",
    "from sklearn.model_selection import train_test_split\n",
    "from sklearn.metrics import roc_auc_score\n",
    "\n",
    "from interpret.glassbox import ExplainableBoostingClassifier\n",
    "from interpret import show"
   ]
  },
  {
   "cell_type": "code",
   "execution_count": null,
   "metadata": {},
   "outputs": [],
   "source": [
    "#进入debug模式\n",
    "import langchain\n",
    "langchain.debug = Ture"
   ]
  },
  {
   "cell_type": "markdown",
   "metadata": {},
   "source": [
    "## 数据训练模型"
   ]
  },
  {
   "cell_type": "code",
   "execution_count": 3,
   "metadata": {
    "scrolled": true
   },
   "outputs": [],
   "source": [
    "df = pd.read_csv(\"./data/spaceship-titanic/train.csv\") # replace with path to dataset on your machine\n",
    "df.head()\n",
    "\n",
    "dataset_description = \"\"\n",
    "y_axis_description = \"\"\n",
    "\n",
    "# transform cabin since 8000 unique values do not fit into the context windows of the LLM we want to use\n",
    "df['Cabin'] = df['Cabin'].map(lambda x: x[:1] + '/' + x[-1] if isinstance(x, str) else x)\n",
    "\n",
    "# pandas to numpy array\n",
    "X_data = df.drop(columns=[\"PassengerId\", \"Transported\", \"Name\"]).values\n",
    "y_data = df[\"Transported\"].values\n",
    "\n",
    "X_train, X_test, y_train, y_test = train_test_split(X_data, y_data, test_size=0.2, random_state=42)"
   ]
  },
  {
   "cell_type": "code",
   "execution_count": 4,
   "metadata": {},
   "outputs": [],
   "source": [
    "dataset_description = \"\"\"\\nHi there, here is a general description of the data set on which I trained the model. This description is from kaggle:\n",
    "\n",
    "Welcome to the year 2912, where your data science skills are needed to solve a cosmic mystery. We've received a transmission from four lightyears away and things aren't looking good.\n",
    "\n",
    "The Spaceship Titanic was an interstellar passenger liner launched a month ago. With almost 13,000 passengers on board, the vessel set out on its maiden voyage transporting emigrants from our solar system to three newly habitable exoplanets orbiting nearby stars.\n",
    "\n",
    "While rounding Alpha Centauri en route to its first destination—the torrid 55 Cancri E—the unwary Spaceship Titanic collided with a spacetime anomaly hidden within a dust cloud. Sadly, it met a similar fate as its namesake from 1000 years before. Though the ship stayed intact, almost half of the passengers were transported to an alternate dimension!\n",
    "\n",
    "To help rescue crews and retrieve the lost passengers, you are challenged to predict which passengers were transported by the anomaly using records recovered from the spaceship’s damaged computer system.\n",
    "\n",
    "The task is to predict whether a passenger was transported to an alternate dimension during the Spaceship Titanic's collision with the spacetime anomaly. To help you make these predictions, you're given a set of personal records recovered from the ship's damaged computer system.\n",
    "\n",
    "Feature Descriptions:\n",
    "\n",
    "PassengerId - A unique Id for each passenger. Each Id takes the form gggg_pp where gggg indicates a group the passenger is travelling with and pp is their number within the group. People in a group are often family members, but not always.\n",
    "HomePlanet - The planet the passenger departed from, typically their planet of permanent residence.\n",
    "CryoSleep - Indicates whether the passenger elected to be put into suspended animation for the duration of the voyage. Passengers in cryosleep are confined to their cabins.\n",
    "Cabin - The cabin number where the passenger is staying. Takes the form deck/num/side, where side can be either P for Port or S for Starboard.\n",
    "Destination - The planet the passenger will be debarking to.\n",
    "Age - The age of the passenger.\n",
    "VIP - Whether the passenger has paid for special VIP service during the voyage.\n",
    "RoomService, FoodCourt, ShoppingMall, Spa, VRDeck - Amount the passenger has billed at each of the Spaceship Titanic's many luxury amenities.\n",
    "Name - The first and last names of the passenger.\n",
    "\"\"\"\n",
    "\n",
    "y_axis_description = \"The y-axis depicts contributions in log-odds towards the outcome, that is the probability that the passenger was transported to another dimension.\""
   ]
  },
  {
   "cell_type": "code",
   "execution_count": 5,
   "metadata": {
    "scrolled": true
   },
   "outputs": [
    {
     "name": "stderr",
     "output_type": "stream",
     "text": [
      "D:\\anaconda3\\lib\\site-packages\\interpret\\glassbox\\_ebm\\_ebm.py:669: UserWarning: Missing values detected. Our visualizations do not currently display missing values. To retain the glassbox nature of the model you need to either set the missing values to an extreme value like -1000 that will be visible on the graphs, or manually examine the missing value score in ebm.term_scores_[term_index][0]\n",
      "  warn(\n"
     ]
    },
    {
     "data": {
      "text/plain": [
       "0.78953421506613"
      ]
     },
     "execution_count": 5,
     "metadata": {},
     "output_type": "execute_result"
    }
   ],
   "source": [
    "feature_names = df.drop(columns=[\"PassengerId\", \"Transported\", \"Name\"]).columns.tolist()\n",
    "\n",
    "ebm = ExplainableBoostingClassifier(interactions=0, \n",
    "                                    feature_names=feature_names)\n",
    "\n",
    "ebm.fit(X_train, y_train)\n",
    "ebm.score(X_test, y_test)"
   ]
  },
  {
   "cell_type": "code",
   "execution_count": 6,
   "metadata": {},
   "outputs": [],
   "source": [
    "def feature_importances_to_text(ebm):\n",
    "    feature_importances = \"\"\n",
    "    for feature_idx, feature_name in enumerate(ebm.feature_names_in_):   #得到数据的column： term imortance列表\n",
    "        feature_importances += (\n",
    "            f\"{feature_name}: {ebm.term_importances()[feature_idx]:.2f}\\n\"\n",
    "        )\n",
    "    return feature_importances"
   ]
  },
  {
   "cell_type": "markdown",
   "metadata": {
    "jp-MarkdownHeadingCollapsed": true
   },
   "source": [
    "## 函数llm2graph：提取ebm中某个feature的graph，然后通过llmchain来让llm根据该graph的信息对话。\n",
    "1. 将ebm中的graph提取出来，转换成能传给LLM的文本格式\n",
    "2. 将该格式加入prompt模板中并生成prompt\n",
    "3. 根据生成的prompt建立LLMChain并返回"
   ]
  },
  {
   "cell_type": "code",
   "execution_count": 10,
   "metadata": {},
   "outputs": [],
   "source": [
    "from langchain.agents import Tool\n",
    "from langchain.agents import AgentType\n",
    "from langchain.memory import ConversationBufferMemory \n",
    "from langchain import OpenAI, ConversationChain, LLMChain, PromptTemplate\n",
    "from langchain.chat_models import ChatOpenAI\n",
    "from langchain.utilities import SerpAPIWrapper\n",
    "from langchain.agents import initialize_agent"
   ]
  },
  {
   "cell_type": "code",
   "execution_count": 18,
   "metadata": {},
   "outputs": [],
   "source": [
    "llm = ChatOpenAI(model_name= \"gpt-3.5-turbo-16k\",temperature=0)\n",
    "llm_gpt4 = ChatOpenAI(model_name= \"gpt-4\",temperature=0)\n",
    "memory = ConversationBufferMemory(memory_key=\"history\")"
   ]
  },
  {
   "cell_type": "code",
   "execution_count": 19,
   "metadata": {},
   "outputs": [],
   "source": [
    "def llm2graph(   \n",
    "        llm,\n",
    "        ebm,\n",
    "        feature_idx,\n",
    "        memory,\n",
    "        num_sentences=7,\n",
    "        dataset_description = None,\n",
    "        y_axis_description = None,\n",
    "):\n",
    "    #返回一个chain，通过chain询问llm对序号为feature_idx的graph\n",
    "    prefix = \"\"\"You are an expert statistician and data scientist.\n",
    "You interpret global explanations produced by a generalized additive model (GAM). GAMs produce explanations in the form of graphs that contain the effect of a specific input feature.\\n\n",
    "\"\"\"\n",
    "    if dataset_description is None or dataset_description == '':\n",
    "        prefix +=\"\"\"You will be given graphs from the model, and the user will ask you questions about the graphs.\"\"\"\n",
    "    else:\n",
    "        prefix +=\"\"\"The user will first provide a general description of the dataset. Then you will be given graphs from the model, and the user will ask you questions about the graphs.\\n\"\"\"\n",
    "    \n",
    "    prefix +=\"\"\"\\n\\nAnswer all questions to the best of your ability, combining both the data contained in the graph\"\"\"\n",
    "    \n",
    "    if dataset_description is not None and len(dataset_description) > 0:\n",
    "        prefix +=\"\"\", the data set description you were given, and your knowledge about the real world.\"\"\"\n",
    "    else:\n",
    "        prefix +=\"\"\" and your knowledge about the real world.\"\"\"\n",
    "    \n",
    "    prefix +=\"\"\"Graphs will be presented as a JSON object with keys representing the x-axis and values representing the y-axis. For continuous features, the keys are intervals that represent ranges where the function predicts the same value. For categorical features, each key represents a possible value that the feature can take.\"\"\"\n",
    "    \n",
    "    if y_axis_description is not None and len(y_axis_description) > 0:\n",
    "        prefix +=y_axis_description\n",
    "    prefix += \"\"\"\\n\\nThe user will provide graphs in the following format:\n",
    "        - The name of the feature depicted in the graph\n",
    "        - The type of the feature (continuous, categorical, or boolean)\n",
    "        - Mean values\n",
    "        - Lower bounds of confidence interval\n",
    "        - Upper bounds of confidence interval\n",
    "    \"\"\"\n",
    "    if dataset_description is not None and len(dataset_description) > 0:\n",
    "        prefix += dataset_description + \"\"\"\\nThe description of dataset ends.\\n\"\"\"\n",
    "    graph = t2ebm.graphs.extract_graph(ebm, feature_idx)\n",
    "    graph = t2ebm.graphs.graph_to_text(graph)\n",
    "    graph = graph.replace(\"{\", \"(\").replace(\"}\", \")\")\n",
    "\n",
    "    suffix=\"\"\"\\nBegin!\n",
    "Human: Consider the following graph from the model.\\n\"\"\"\n",
    "    suffix+=graph\n",
    "    suffix+=\"\"\"\\nAI: I have obtained the information of the graph. You can ask me questions next, and I will answer based on the information,my knowledge about the real world, and maybe the data description.\n",
    "{history}\n",
    "Human: {query}\n",
    "AI:\"\"\"\n",
    "    template=prefix+suffix\n",
    "    prompt = PromptTemplate(input_variables=[\"history\",\"query\"], template=template)\n",
    "    \n",
    "    chain = LLMChain(\n",
    "    llm = llm,\n",
    "    prompt=prompt,\n",
    "    verbose=False,\n",
    "    memory=memory,\n",
    "    )      \n",
    "    return chain"
   ]
  },
  {
   "cell_type": "code",
   "execution_count": 20,
   "metadata": {
    "scrolled": true
   },
   "outputs": [
    {
     "name": "stdout",
     "output_type": "stream",
     "text": [
      "0: HomePlanet  \n",
      "1: CryoSleep  \n",
      "2: Cabin  \n",
      "3: Destination  \n",
      "4: Age  \n",
      "5: VIP  \n",
      "6: RoomService  \n",
      "7: FoodCourt  \n",
      "8: ShoppingMall  \n",
      "9: Spa  \n",
      "10: VRDeck  \n"
     ]
    }
   ],
   "source": [
    "#得到ebm的feature列表以及序号\n",
    "for feature_idx, feature_name in enumerate(ebm.feature_names_in_):  \n",
    "    print(f\"{feature_idx}: {feature_name}  \")"
   ]
  },
  {
   "cell_type": "code",
   "execution_count": 32,
   "metadata": {},
   "outputs": [
    {
     "name": "stdout",
     "output_type": "stream",
     "text": [
      "INFO: The graph of feature Spa was simplified by 0.6%.\n"
     ]
    }
   ],
   "source": [
    "#生成一个关于0号feature的chain\n",
    "graph = llm2graph(llm,ebm,9,memory=memory,dataset_description=dataset_description,y_axis_description=y_axis_description)"
   ]
  },
  {
   "cell_type": "code",
   "execution_count": 16,
   "metadata": {},
   "outputs": [
    {
     "data": {
      "text/plain": [
       "'The general pattern of the graph for the \"Age\" feature shows that the effect of age on the probability of being transported to an alternate dimension is not linear. There are multiple intervals where the function predicts the same value, indicating that the effect of age on the outcome is different within each interval. The graph shows both positive and negative contributions towards the outcome, suggesting that the relationship between age and the probability of being transported is complex.'"
      ]
     },
     "execution_count": 16,
     "metadata": {},
     "output_type": "execute_result"
    }
   ],
   "source": [
    "graph.run(query=\"Please describe the general pattern of the graph.\")"
   ]
  },
  {
   "cell_type": "code",
   "execution_count": 102,
   "metadata": {},
   "outputs": [
    {
     "data": {
      "text/plain": [
       "'The HomePlanet feature has a significant influence on the probability of a passenger being transported to an alternate dimension during the collision with the spacetime anomaly. Passengers from \"Europa\" have the highest positive effect on the probability, indicating that they are more likely to be transported. Passengers from \"Mars\" also have a positive effect, but smaller than those from \"Europa\". On the other hand, passengers from \"Earth\" have a negative effect on the probability, suggesting that they are less likely to be transported. \\n\\nThese findings suggest that the planet of permanent residence plays a role in determining whether a passenger is affected by the anomaly. Passengers from \"Europa\" may have certain characteristics or factors that make them more susceptible to being transported, while passengers from \"Earth\" may have factors that make them less susceptible. The influence of the HomePlanet feature should be taken into account when predicting whether a passenger was transported to an alternate dimension.'"
      ]
     },
     "execution_count": 102,
     "metadata": {},
     "output_type": "execute_result"
    }
   ],
   "source": [
    "graph.run(query=\"please provide a brief, at most 7 sentence summary of the influence of the feature on the outcome.\")"
   ]
  },
  {
   "cell_type": "code",
   "execution_count": 103,
   "metadata": {
    "scrolled": true
   },
   "outputs": [
    {
     "data": {
      "text/plain": [
       "'Based on the graph and the information provided, changing a passenger\\'s HomePlanet from \"Mars\" to \"Earth\" would result in a decrease in the probability of that passenger being transported to an alternate dimension. Passengers from \"Mars\" have a positive effect on the probability, while passengers from \"Earth\" have a negative effect. Therefore, changing the HomePlanet from \"Mars\" to \"Earth\" would likely decrease the probability of being transported to an alternate dimension. However, the exact magnitude of this change cannot be determined without additional information or the specific model coefficients.'"
      ]
     },
     "execution_count": 103,
     "metadata": {},
     "output_type": "execute_result"
    }
   ],
   "source": [
    "graph.run(query=\"What will happen if I change one's 'HomePlanet' from 'Mars' to 'earth' \")"
   ]
  },
  {
   "cell_type": "code",
   "execution_count": null,
   "metadata": {},
   "outputs": [],
   "source": []
  },
  {
   "cell_type": "code",
   "execution_count": null,
   "metadata": {},
   "outputs": [],
   "source": []
  },
  {
   "cell_type": "markdown",
   "metadata": {
    "jp-MarkdownHeadingCollapsed": true
   },
   "source": [
    "## 函数llm2ebm：对于整个ebm通过LLM进行对话\n",
    "1. 通过函数llm2graph_desc获得每个feature的graph description\n",
    "2. 将数据集描述，所有的feature importances，各个feature的graph description加入prompt中提供给llm\n",
    "3. 根据prompt生成LLMChain，进行对话"
   ]
  },
  {
   "cell_type": "code",
   "execution_count": 25,
   "metadata": {},
   "outputs": [],
   "source": [
    "#记忆模块\n",
    "memory_ebm = ConversationBufferMemory(memory_key=\"history\")"
   ]
  },
  {
   "cell_type": "code",
   "execution_count": 26,
   "metadata": {},
   "outputs": [],
   "source": [
    "#返回某个feature的graph description\n",
    "def llm2graph_desc(   \n",
    "        llm,\n",
    "        ebm,\n",
    "        feature_idx,\n",
    "        dataset_description = None,\n",
    "        y_axis_description = None,\n",
    "        query = \"Now please provide a brief, at most 7 sentence summary of the influence of the feature on the outcome.\"\n",
    "):\n",
    "    prefix = \"\"\"You are an expert statistician and data scientist.\n",
    "You interpret global explanations produced by a generalized additive model (GAM). GAMs produce explanations in the form of graphs that contain the effect of a specific input feature.\\n\n",
    "\"\"\"\n",
    "    if dataset_description is None or dataset_description == '':\n",
    "        prefix +=\"\"\"You will be given graphs from the model, and the user will ask you questions about the graphs.\"\"\"\n",
    "    else:\n",
    "        prefix +=\"\"\"The user will first provide a general description of the dataset. Then you will be given graphs from the model, and the user will ask you questions about the graphs.\\n\"\"\"\n",
    "    \n",
    "    prefix +=\"\"\"\\n\\nAnswer all questions to the best of your ability, combining both the data contained in the graph\"\"\"\n",
    "    \n",
    "    if dataset_description is not None and len(dataset_description) > 0:\n",
    "        prefix +=\"\"\", the data set description you were given, and your knowledge about the real world.\"\"\"\n",
    "    else:\n",
    "        prefix +=\"\"\" and your knowledge about the real world.\"\"\"\n",
    "    \n",
    "    prefix +=\"\"\"Graphs will be presented as a JSON object with keys representing the x-axis and values representing the y-axis. For continuous features, the keys are intervals that represent ranges where the function predicts the same value. For categorical features, each key represents a possible value that the feature can take.\"\"\"\n",
    "    \n",
    "    if y_axis_description is not None and len(y_axis_description) > 0:\n",
    "        prefix +=y_axis_description\n",
    "    prefix += \"\"\"\\n\\nThe user will provide graphs in the following format:\n",
    "        - The name of the feature depicted in the graph\n",
    "        - The type of the feature (continuous, categorical, or boolean)\n",
    "        - Mean values\n",
    "        - Lower bounds of confidence interval\n",
    "        - Upper bounds of confidence interval\n",
    "    \"\"\"\n",
    "    if dataset_description is not None and len(dataset_description) > 0:\n",
    "        prefix += dataset_description + \"\"\"\\nThe description of dataset ends.\\n\"\"\"\n",
    "    graph = t2ebm.graphs.extract_graph(ebm, feature_idx)\n",
    "    graph = t2ebm.graphs.graph_to_text(graph)\n",
    "    graph = graph.replace(\"{\", \"(\").replace(\"}\", \")\")\n",
    "\n",
    "    suffix=\"\"\"\\nBegin!\n",
    "Human: Consider the following graph from the model.\\n\"\"\"\n",
    "    suffix+=graph\n",
    "    suffix+=\"\"\"\\nAI: I have obtained the information of the graph. You can ask me questions next, and I will answer based on the information,my knowledge about the real world, and maybe the data description.\n",
    "Human: {query}\n",
    "AI:\"\"\"\n",
    "    template=prefix+suffix\n",
    "    prompt = PromptTemplate(input_variables=[\"query\"], template=template)\n",
    "    \n",
    "    chain = LLMChain(\n",
    "    llm = llm,\n",
    "    prompt=prompt,\n",
    "    verbose=False,\n",
    "    )\n",
    "    graph_description = chain.run(query=query)\n",
    "    return graph_description"
   ]
  },
  {
   "cell_type": "code",
   "execution_count": 27,
   "metadata": {},
   "outputs": [
    {
     "data": {
      "text/plain": [
       "['HomePlanet',\n",
       " 'CryoSleep',\n",
       " 'Cabin',\n",
       " 'Destination',\n",
       " 'Age',\n",
       " 'VIP',\n",
       " 'RoomService',\n",
       " 'FoodCourt',\n",
       " 'ShoppingMall',\n",
       " 'Spa',\n",
       " 'VRDeck']"
      ]
     },
     "execution_count": 27,
     "metadata": {},
     "output_type": "execute_result"
    }
   ],
   "source": [
    "ebm.feature_names_in_"
   ]
  },
  {
   "cell_type": "code",
   "execution_count": 28,
   "metadata": {},
   "outputs": [],
   "source": [
    "#返回和ebm对话的LLMchain\n",
    "def llm2ebm(   \n",
    "        llm,\n",
    "        ebm,\n",
    "        memory,\n",
    "        dataset_description = None,\n",
    "        y_axis_description = None,\n",
    "):\n",
    "    feature_importances = feature_importances_to_text(ebm) \n",
    "    graphs = []\n",
    "    graph_descriptions = []\n",
    "    for feature_index in range(len(ebm.feature_names_in_)):       #获取ebm中的所有graph\n",
    "        graphs.append(t2ebm.graphs.extract_graph(ebm, feature_index))\n",
    "    graphs = [t2ebm.graphs.graph_to_text(graph) for graph in graphs]\n",
    "    graph_descriptions = [llm2graph_desc(llm,ebm,idx,dataset_description=dataset_description,y_axis_description=y_axis_description) for idx in range(len(ebm.feature_names_in_)) ]\n",
    "    graph_descriptions = \"\\n\\n\".join(\n",
    "        [\n",
    "            ebm.feature_names_in_[idx] + \": \" + graph_description\n",
    "            for idx, graph_description in enumerate(graph_descriptions)\n",
    "        ]\n",
    "    )\n",
    "    \n",
    "    prefix = \"\"\"You are an expert statistician and data scientist.\n",
    "            \n",
    "    Your task is to provide an overall summary of a Generalized Additive Model (GAM) and answer the human's questions about it. The model consists of different graphs that contain the effect of a specific input feature.\n",
    "    \n",
    "    You will be given:\n",
    "        - The global feature importances of the different features in the model.\n",
    "        - Summaries of the graphs for the different features in the model. There is exactly one graph for each feature in the model.\n",
    "    \"\"\"\n",
    "    if dataset_description is None or dataset_description == '':\n",
    "        prefix += \"\\n\\nThese inputs will be given to you by the user.\"\n",
    "    else:\n",
    "        prefix += \"\\n\\nThe user will first provide a general description of what the dataset is about. Then you will be given the feature importance scores and the summaries of the individual features.\"\n",
    "    \n",
    "    suffix = \"\"\n",
    "    \n",
    "    if dataset_description is not None and len(dataset_description) > 0:\n",
    "        suffix += \"Human: Here is the general description of the data set\\n\" + dataset_description\n",
    "        suffix += \"\\nAI: Thanks for this general description of the data set. Now please provide the global feature importance.\\n\"\n",
    "    \n",
    "    suffix += \"Human: Here are the global feature importaces.\\n\\n\" + feature_importances + \"\\nAI: Thanks. Now please provide the descriptions of the different graphs.\"\n",
    "    suffix += \"Human: Here are the descriptions of the different graphs.\\n\\n\" + graph_descriptions\n",
    "    suffix+=\"\"\"\\nAI: Thanks. You can ask me questions next.\n",
    "    {history}\n",
    "    Human: {query}\n",
    "    AI:\"\"\"\n",
    "    template=prefix+suffix\n",
    "    prompt = PromptTemplate(input_variables=[\"history\",\"query\"], template=template)\n",
    "    \n",
    "    chain = LLMChain(\n",
    "    llm = llm,\n",
    "    prompt=prompt,\n",
    "    verbose=False,\n",
    "    memory=memory,\n",
    "    )      \n",
    "    return chain"
   ]
  },
  {
   "cell_type": "code",
   "execution_count": 29,
   "metadata": {
    "scrolled": true
   },
   "outputs": [
    {
     "name": "stdout",
     "output_type": "stream",
     "text": [
      "INFO: The graph of feature RoomService was simplified by 1.1%.\n",
      "INFO: The graph of feature FoodCourt was simplified by 0.4%.\n",
      "INFO: The graph of feature ShoppingMall was simplified by 0.4%.\n",
      "INFO: The graph of feature Spa was simplified by 0.6%.\n",
      "INFO: The graph of feature VRDeck was simplified by 0.6%.\n",
      "INFO: The graph of feature RoomService was simplified by 1.1%.\n",
      "INFO: The graph of feature FoodCourt was simplified by 0.4%.\n",
      "INFO: The graph of feature ShoppingMall was simplified by 0.4%.\n",
      "INFO: The graph of feature Spa was simplified by 0.6%.\n",
      "INFO: The graph of feature VRDeck was simplified by 0.6%.\n"
     ]
    }
   ],
   "source": [
    "#生成和ebm对话的LLMchain\n",
    "talkebm = llm2ebm(llm,ebm,memory_ebm,dataset_description=dataset_description,y_axis_description=y_axis_description)"
   ]
  },
  {
   "cell_type": "code",
   "execution_count": 53,
   "metadata": {},
   "outputs": [
    {
     "data": {
      "text/plain": [
       "'The Generalized Additive Model (GAM) was trained on a dataset from the Spaceship Titanic, which collided with a spacetime anomaly, transporting almost half of its passengers to an alternate dimension. The global feature importances indicate that the most influential features are Spa, VRDeck, CryoSleep, and RoomService. The graphs for each feature provide insights into their effects on the outcome. Passengers from the planet Europa have the highest probability of being transported, while those from Earth have the lowest. Choosing cryosleep increases the likelihood of being transported. Passengers staying in cabins labeled \"C/S\" and \"C/P\" are more likely to be transported, while those in \"G/P\" and \"A/P\" are less likely. The destination also plays a role, with passengers destined for \"55 Cancri e\" having a higher probability. Age, VIP status, and spending at amenities like the FoodCourt and ShoppingMall also influence the outcome. Overall, the GAM model provides valuable insights into the factors that determine whether a passenger was transported to an alternate dimension during the collision.'"
      ]
     },
     "execution_count": 53,
     "metadata": {},
     "output_type": "execute_result"
    }
   ],
   "source": [
    "talkebm.run(\"Now give a summary about the model at most 10 sentences. Be sure to keep the most important information.\")"
   ]
  },
  {
   "cell_type": "code",
   "execution_count": 54,
   "metadata": {},
   "outputs": [
    {
     "data": {
      "text/plain": [
       "'Based on the information provided, the probability that this person is sent to the alternate dimension can be estimated using the trained GAM model. However, without the specific coefficients and model parameters, it is not possible to provide an accurate probability estimate. To obtain a precise probability, the model would need to be applied to the given feature values using the appropriate calculations.'"
      ]
     },
     "execution_count": 54,
     "metadata": {},
     "output_type": "execute_result"
    }
   ],
   "source": [
    "talkebm.run(\"If a person's HomePlanet is Earth, CryoSleep is False, Cabin is F/4/S, Destination is TRAPPIST-1e, Age is 19.0, VIP is False, RoomService is 0.0, FoodCourt is 9.0, ShoppingMall is 0.0, Spa is 2823.0, VRDeck is 0.0, what is the probability that it is sent to the alternate dimension?\")"
   ]
  },
  {
   "cell_type": "code",
   "execution_count": 55,
   "metadata": {},
   "outputs": [
    {
     "data": {
      "text/plain": [
       "'Yes, based on the provided data description, feature importances, and descriptions of each graph, we can make a prediction about the probability of a person being sent to the alternate dimension. \\n\\nThe most influential features in the model are Spa, VRDeck, CryoSleep, and RoomService. However, we also need information about the specific coefficients and model parameters to make an accurate prediction. Without these details, it is not possible to provide a precise probability estimate. \\n\\nTo obtain a reliable prediction, the trained GAM model would need to be applied to the given feature values using the appropriate calculations.'"
      ]
     },
     "execution_count": 55,
     "metadata": {},
     "output_type": "execute_result"
    }
   ],
   "source": [
    "talkebm.run(\"Can you predict based on the provided data description, feature importances and description of each graph?\")"
   ]
  },
  {
   "cell_type": "code",
   "execution_count": 56,
   "metadata": {},
   "outputs": [
    {
     "data": {
      "text/plain": [
       "'Based on the information provided, the probability of this person being transported to the alternate dimension cannot be accurately determined without the specific coefficients and model parameters. To obtain a precise probability estimate, the trained GAM model would need to be applied to the given feature values using the appropriate calculations.'"
      ]
     },
     "execution_count": 56,
     "metadata": {},
     "output_type": "execute_result"
    }
   ],
   "source": [
    "talkebm.run(\"You don't need to make a very precise prediction, you just need to get a probability based on the information I provided. Please tell me the probability of this person being transported to the alternate dimension.\")"
   ]
  },
  {
   "cell_type": "code",
   "execution_count": 58,
   "metadata": {},
   "outputs": [
    {
     "data": {
      "text/plain": [
       "'Based on the descriptions of the RoomService and ShoppingMall graphs, increasing the value of RoomService from 0 to 50 and ShoppingMall from 0 to 20 would likely have an impact on the probability of being sent to the alternate dimension. \\n\\nFor RoomService, as the amount billed increases, the probability of being transported to an alternate dimension also increases up to a certain point. Therefore, increasing the value of RoomService from 0 to 50 may increase the probability of being sent to the alternate dimension.\\n\\nFor ShoppingMall, the graph suggests that higher spending at the ShoppingMall is associated with a higher probability of being transported to an alternate dimension. Therefore, increasing the value of ShoppingMall from 0 to 20 may also increase the probability of being sent to the alternate dimension.\\n\\nHowever, without the specific coefficients and model parameters, it is not possible to provide an accurate estimate of the impact on the probability. To obtain a precise estimate, the trained GAM model would need to be applied to the given feature values using the appropriate calculations.'"
      ]
     },
     "execution_count": 58,
     "metadata": {},
     "output_type": "execute_result"
    }
   ],
   "source": [
    "talkebm.run(\"If a person's RoomService changes from 0 to 50, and ShoppingMall changes from 0 to 20, what impact will it have on the probability of being sent to the alternate dimension?\")"
   ]
  },
  {
   "cell_type": "raw",
   "metadata": {},
   "source": [
    "---如果一个人HomePlanet 是Earth，CryoSleep 是False，Cabin是F/4/S ，Destination 是 TRAPPIST-1e，Age 是19.0，VIP是False ，RoomService是0.0, FoodCourt是9.0, ShoppingMall是0.0, Spa是2823.0, VRDeck是0.0，请问它被传送到alternate dimension的概率有多大？\n",
    "\n",
    "---'根据提供的信息，可以使用经过训练的 GAM 模型来估计此人被发送到替代维度的概率。 然而，如果没有特定的系数和模型参数，就不可能提供准确的概率估计。 为了获得精确的概率，需要使用适当的计算将该模型应用于给定的特征值。\n",
    "\n",
    "--\r\n",
    "你能根据提供的data description，feature importances和各个graph的descriptio预测n来\n",
    "测\n",
    "---是的，根据提供的数据描述、特征重要性以及每个图的描述，我们可以预测一个人被发送到另一个维度的概率。 \\n\\n模型中最有影响力的功能是 Spa、VRDeck、CryoSleep 和 RoomService。 然而，我们还需要有关特定系数和模型参数的信息才能做出准确的预测。 如果没有这些详细信息，就不可能提供精确的概率估计。 \\n\\n为了获得可靠的预测，需要使用适当的计算将经过训练的 GAM 模型应用于给定征值。。\n",
    "--吗\n",
    "-你不需要做出非常精准的预测，你只需要根据我提供的这些信息来得到一个概率。请告诉我这个人被传送到alternate dimension的概n的\n",
    "---‘根据提供的信息，如果没有具体的系数和模型参数，就无法准确确定此人被传送到异次元的概率。 为了获得精确的概率估计，需要使用适当的计算将经过训练的 GAM 模型应用于给特征值。率。---\r\n",
    "\r\n",
    "如果将一个人的roomservice从0变成50，shoppingMall从0变成20，将会对他被传送到alternate dimensio什么\n",
    "的影n----根据 RoomService 和 ShoppingMall 图表的描述，将 RoomService 的值从 0 增加到 50，将 ShoppingMall 的值从 0 增加到 20，可能会对发送到替代维度的概率产生影响。 \n",
    "对于 RoomService 来说，随着计费金额的增加，被传送到异次元的概率也会增加到一定程度。 因此，将 RoomService 的值从 0 增加到 50 可能会增加被发送到备用维度的概率。\n",
    "对于 ShoppingMall，该图表明，在 ShoppingMall 的支出越高，被发送到备用维度的概率越高 方面。 因此，将 ShoppingMall 的值从 0 增加到 20 也可能会增加被发送到替代维度的概率。\n",
    "但是，在没有具体系数和模型参数的情况下，无法估计对 概率。 为了获得精确的估计，需要使用适当的计算将经过训练的 GAM 模型应用于给定的特征值。增加被值。什么样的影响"
   ]
  },
  {
   "cell_type": "code",
   "execution_count": 59,
   "metadata": {},
   "outputs": [
    {
     "name": "stdout",
     "output_type": "stream",
     "text": [
      "INFO: The graph of feature RoomService was simplified by 1.1%.\n",
      "INFO: The graph of feature FoodCourt was simplified by 0.4%.\n",
      "INFO: The graph of feature ShoppingMall was simplified by 0.4%.\n",
      "INFO: The graph of feature Spa was simplified by 0.6%.\n",
      "INFO: The graph of feature VRDeck was simplified by 0.6%.\n",
      "INFO: The graph of feature RoomService was simplified by 1.1%.\n",
      "INFO: The graph of feature FoodCourt was simplified by 0.4%.\n",
      "INFO: The graph of feature ShoppingMall was simplified by 0.4%.\n",
      "INFO: The graph of feature Spa was simplified by 0.6%.\n",
      "INFO: The graph of feature VRDeck was simplified by 0.6%.\n"
     ]
    }
   ],
   "source": [
    "#使用gpt4\n",
    "talkebm = llm2ebm(llm_gpt4,ebm,memory_ebm,dataset_description=dataset_description,y_axis_description=y_axis_description)"
   ]
  },
  {
   "cell_type": "code",
   "execution_count": 60,
   "metadata": {},
   "outputs": [
    {
     "data": {
      "text/plain": [
       "'Based on the descriptions of the graphs for each feature, we can make a qualitative prediction. \\n\\nThe person is from Earth, which has a negative contribution to the log-odds of being transported to an alternate dimension. They are not in CryoSleep, which also contributes negatively. The cabin type is not specified in the graph descriptions, so its effect is unclear. The destination, TRAPPIST-1e, contributes negatively. Being 19 years old seems to have a negative contribution as well, as the age graph shows a decrease in log-odds for this age group. The person is not a VIP, which has a near-zero contribution. RoomService is 0, which is in the range that contributes positively. FoodCourt is 9, which is not clearly specified in the graph description, but lower values generally contribute negatively. ShoppingMall is 0, which contributes negatively. Spa is 2823, which is likely to contribute negatively as higher values of Spa usage are associated with a lower likelihood of being transported. VRDeck is 0, which is not clearly specified in the graph description, but higher values generally contribute negatively.\\n\\nGiven these factors, it seems that the person is less likely to be transported to an alternate dimension. However, without the specific coefficients and model parameters, it is not possible to provide an accurate probability estimate. To obtain a precise probability, the trained GAM model would need to be applied to the given feature values using the appropriate calculations.'"
      ]
     },
     "execution_count": 60,
     "metadata": {},
     "output_type": "execute_result"
    }
   ],
   "source": [
    "talkebm.run(\"If a person's HomePlanet is Earth, CryoSleep is False, Cabin is F/4/S, Destination is TRAPPIST-1e, Age is 19.0, VIP is False, RoomService is 0.0, FoodCourt is 9.0, ShoppingMall is 0.0, Spa is 2823.0, VRDeck is 0.0, what is the probability that it is sent to the alternate dimension?\")"
   ]
  },
  {
   "cell_type": "code",
   "execution_count": 61,
   "metadata": {},
   "outputs": [
    {
     "data": {
      "text/plain": [
       "\"Based on the descriptions of the graphs for each feature, we can make a qualitative prediction. \\n\\nThe person's HomePlanet changing from Earth to Mars would likely increase the probability of being transported to an alternate dimension. This is because the graph for HomePlanet shows that passengers from Mars have a slight positive contribution to the log-odds of being transported, while passengers from Earth have a negative contribution.\\n\\nThe person's Spa usage changing from 2823 to 20 would also likely increase the probability of being transported to an alternate dimension. This is because the graph for Spa shows that lower values of Spa usage contribute positively to the log-odds of being transported, while higher values contribute negatively.\\n\\nHowever, without the specific coefficients and model parameters, it is not possible to provide an accurate estimate of the impact on the probability. To obtain a precise estimate, the trained GAM model would need to be applied to the given feature values using the appropriate calculations.\""
      ]
     },
     "execution_count": 61,
     "metadata": {},
     "output_type": "execute_result"
    }
   ],
   "source": [
    "talkebm.run(\"If his Spa changes from 2823 to 20 and HomePlanet changes from Earth to Mars, what impact will it have on his probability of being teleported to the alternate dimension?\")"
   ]
  },
  {
   "cell_type": "raw",
   "metadata": {},
   "source": [
    "---如果一个人HomePlanet 是Earth，CryoSleep 是False，Cabin是F/4/S ，Destination 是 TRAPPIST-1e，Age 是19.0，VIP是False ，RoomService是0.0, FoodCourt是9.0, ShoppingMall是0.0, Spa是2823.0, VRDeck是0.0，请问它被传送到alternate dimension的概率有多大\n",
    "\n",
    "---“根据每个特征的图表描述，我们可以做出定性预测。 \\n\\n这个人来自地球，这对传送到另一个维度的对数几率有负面贡献。 它们不在 CryoSleep 中，这也会产生负面影响。 图中没有具体说明舱型，因此其效果尚不清楚。 目的地 TRAPPIST-1e 产生负面影响。 19 岁似乎也有负贡献，因为年龄图显示该年龄组的对数赔率下降。 此人不是 VIP，其贡献几乎为零。 RoomService 为 0，处于积极贡献的范围内。 FoodCourt 为 9，在图表描述中没有明确指定，但较低的值通常会产生负面影响。 ShoppingMall 为 0，贡献为负。 Spa 为 2823，这可能会产生负面影响，因为较高的 Spa 使用值与较低的运输可能性相关。 VRDeck 为 0，在图形描述中没有明确指定，但较高的值通常会产生负面影响。\\n\\n考虑到这些因素，似乎该人不太可能被传送到另一个维度。 然而，如果没有特定的系数和模型参数，就不可能提供准确的概率估计。 为了获得精确的概率，需要使用适当的计算将经过训练的 GAM 模型应用于给定的特征值。\n",
    "\n",
    "---如果他的Spa从2823改变成20，HomePlanet 从Earth改变成Mars，将会对他被传送到alternate dimension的概率产生什么样的影响?\n",
    "\n",
    "---“根据每个特征的图表描述，我们可以做出定性预测。\n",
    "人的家乡星球从地球变为火星，很可能会增加被传送到另一个维度的概率。这是因为家乡星球的图表 显示来自火星的乘客对被运送的对数几率有轻微的正贡献，而来自地球的乘客则有负贡献。\n",
    "该人的 Spa 使用量从 2823 更改为 20 也可能会增加被运送到的概率 另一个维度。这是因为 Spa 的图表显示，Spa 使用率的较低值对运输的对数几率有正向贡献，而较高的值则有负向贡献。\n",
    "但是，如果没有特定系数和模型参数，则 不可能提供对概率的影响的准确估计。为了获得精确的估计，需要使用适当的计算将经过训练的 GAM 模型应用于给定的特征值。”"
   ]
  },
  {
   "cell_type": "code",
   "execution_count": null,
   "metadata": {},
   "outputs": [],
   "source": []
  },
  {
   "cell_type": "code",
   "execution_count": 30,
   "metadata": {},
   "outputs": [
    {
     "data": {
      "text/plain": [
       "'Based on the provided information, the feature \"Spa\" appears to have a monotonically increasing relationship with the probability of being transported to an alternate dimension. As the amount billed at the spa increases, the probability of being transported initially decreases, but then starts to increase rapidly beyond a certain point. This suggests that moderate use of the spa may have a positive effect on avoiding transportation, but excessive use may increase the likelihood of being transported.'"
      ]
     },
     "execution_count": 30,
     "metadata": {},
     "output_type": "execute_result"
    }
   ],
   "source": [
    "talkebm.run(\"Which feature the probability of being transported to an alternate dimension increase monotonically with?\")"
   ]
  },
  {
   "cell_type": "code",
   "execution_count": 31,
   "metadata": {},
   "outputs": [
    {
     "data": {
      "text/plain": [
       "'Yes, there are other features with similar conclusions. The features \"RoomService\" and \"ShoppingMall\" also have non-linear relationships with the probability of being transported to an alternate dimension. For \"RoomService\", as the amount billed increases from 0 to a certain point, the probability of being transported also increases. However, beyond that point, as the amount billed continues to increase, the probability starts to decrease. Similarly, for \"ShoppingMall\", as the amount billed increases, the log-odds towards the outcome also increase, indicating a higher probability of being transported. However, the effect is not linear, as there are intervals where the log-odds decrease before increasing again.'"
      ]
     },
     "execution_count": 31,
     "metadata": {},
     "output_type": "execute_result"
    }
   ],
   "source": [
    "talkebm.run(\"Are there any other Features with similar conclusions?\")"
   ]
  },
  {
   "cell_type": "markdown",
   "metadata": {},
   "source": [
    "## Agent"
   ]
  },
  {
   "cell_type": "code",
   "execution_count": 7,
   "metadata": {},
   "outputs": [],
   "source": [
    "from langchain.chat_models import ChatOpenAI\n",
    "from langchain.agents import AgentType, initialize_agent, ZeroShotAgent, load_tools\n",
    "from langchain.tools import BaseTool, StructuredTool, Tool, tool\n",
    "from langchain.agents import Tool, AgentExecutor, LLMSingleActionAgent, AgentOutputParser\n",
    "from langchain.prompts import BaseChatPromptTemplate, PromptTemplate\n",
    "from langchain.chains.llm import LLMChain\n",
    "from langchain.memory import ConversationBufferMemory\n",
    "from typing import List, Union\n",
    "from langchain.schema import AgentAction, AgentFinish, HumanMessage\n",
    "from langchain.agents.agent_toolkits import create_python_agent\n",
    "from langchain.tools.python.tool import PythonREPLTool\n",
    "from langchain.utilities import PythonREPL\n",
    "import markdown  \n",
    "from IPython.display import Image, display  \n",
    "import re"
   ]
  },
  {
   "cell_type": "code",
   "execution_count": 8,
   "metadata": {},
   "outputs": [],
   "source": [
    "llm = ChatOpenAI(model_name= \"gpt-3.5-turbo-16k\",temperature=0)\n",
    "llm_gpt4 = ChatOpenAI(model_name= \"gpt-4\",temperature=0)"
   ]
  },
  {
   "cell_type": "code",
   "execution_count": 9,
   "metadata": {},
   "outputs": [],
   "source": [
    "#将md语法的图字符串转成图\n",
    "def md2img(text):\n",
    "    # 使用Markdown库将Markdown文本转换为HTML  \n",
    "    html_output = markdown.markdown(text)  \n",
    "      \n",
    "    # 解析HTML中的图片标签，并显示图片  \n",
    "    def process_image_tags(html):  \n",
    "        from bs4 import BeautifulSoup  \n",
    "        soup = BeautifulSoup(html, 'html.parser')  \n",
    "          \n",
    "        # 找到所有的图片标签  \n",
    "        img_tags = soup.find_all('img')  \n",
    "          \n",
    "        # 遍历图片标签，显示图片  \n",
    "        for img in img_tags:  \n",
    "            url = img['src']  \n",
    "            alt_text = img.get('alt', '')  \n",
    "              \n",
    "            # 使用IPython.display模块的Image类显示图片  \n",
    "            display(Image(url=url, alt=alt_text))  \n",
    "      \n",
    "    # 调用函数解析图片标签并显示图片  \n",
    "    process_image_tags(html_output)  "
   ]
  },
  {
   "cell_type": "code",
   "execution_count": 10,
   "metadata": {},
   "outputs": [],
   "source": [
    "desc = (\n",
    "    \"use this tool when you need to predict the probabilities given a series of feature values in a Generalized Additive Model.\"\n",
    "    \"It will return the prediction result and probability. Your final answer must begin with the results returned and your thoughts about the it,\"\n",
    "    \" plus a conclusion based on the combination of the results returned and the description of the data set. To use the tool you must provide \"\n",
    "    \"a list consisting of the value of each feature. The value must be provided in question. For example, the question is if a persion's Age is 27\"\n",
    "    \", WorkClass is Private,fnlwgt is 160178,Education is Some-college, EducationNum is 10, MaritalStatus is Divorced,Occupation is Adm-clerical\"\n",
    "    \",what is the prediction. you need to provide this tool with [27,' Private', 160178,' Some-college', 10, ' Divorced', ' Adm-clerical'].\"\n",
    "    \"Remember to put quotes around the word in the list.\"\n",
    ")"
   ]
  },
  {
   "cell_type": "code",
   "execution_count": 13,
   "metadata": {},
   "outputs": [],
   "source": [
    "#预测工具的函数\n",
    "def forecast(input):\n",
    "    sample = eval(input)\n",
    "    result = ebm.predict(sample)\n",
    "    probability = ebm.predict_proba(sample)\n",
    "    probability = np.array(probability, dtype=float)  \n",
    "    probability = max(probability[0][0],probability[0][1]) \n",
    "    return f\"The prediction result is {result[0]}，and the probability that the result comes to fruition is {probability}\" "
   ]
  },
  {
   "cell_type": "code",
   "execution_count": 14,
   "metadata": {},
   "outputs": [],
   "source": [
    "forecast_tool = Tool(\n",
    "    name='Forecast',\n",
    "    func=forecast,\n",
    "    description=desc\n",
    ")"
   ]
  },
  {
   "cell_type": "code",
   "execution_count": 15,
   "metadata": {},
   "outputs": [],
   "source": [
    "tools=[PythonREPLTool()]\n",
    "tools.append(forecast_tool)\n",
    "#tools.append(plot_tool)"
   ]
  },
  {
   "cell_type": "code",
   "execution_count": 23,
   "metadata": {
    "scrolled": true
   },
   "outputs": [
    {
     "name": "stdout",
     "output_type": "stream",
     "text": [
      "INFO: The graph of feature RoomService was simplified by 1.1%.\n",
      "INFO: The graph of feature FoodCourt was simplified by 0.4%.\n",
      "INFO: The graph of feature ShoppingMall was simplified by 0.4%.\n",
      "INFO: The graph of feature Spa was simplified by 0.6%.\n",
      "INFO: The graph of feature VRDeck was simplified by 0.6%.\n"
     ]
    }
   ],
   "source": [
    "#和ebm对话的prompt生成\n",
    "feature_importances = feature_importances_to_text(ebm) \n",
    "graphs = []\n",
    "graph_descriptions = []\n",
    "for feature_index in range(len(ebm.feature_names_in_)):       #获取ebm中的所有graph\n",
    "    graphs.append(t2ebm.graphs.extract_graph(ebm, feature_index))\n",
    "graphs = [t2ebm.graphs.graph_to_text(graph) for graph in graphs]\n",
    "'''graph_descriptions = [llm2graph_desc(llm,ebm,idx,dataset_description=dataset_description,y_axis_description=y_axis_description) for idx in range(len(ebm.feature_names_in_)) ]\n",
    "graph_descriptions = \"\\n\\n\".join(\n",
    "    [\n",
    "        ebm.feature_names_in_[idx] + \": \" + graph_description\n",
    "        for idx, graph_description in enumerate(graph_descriptions)\n",
    "    ]\n",
    ")'''\n",
    "\n",
    "prefix = \"\"\"You are an expert statistician and data scientist.\n",
    "        \n",
    "Your task is complete some tasks about a Generalized Additive Model (GAM). The model consists of different graphs that contain the effect of a specific input feature.\n",
    "You are bad at math such as predict the probability. So you must directly use the tool when asked about math problem. \n",
    "\n",
    "You will be given:\n",
    "    - The global feature importances of the different features in the model.\n",
    "    - Summaries of the graphs for the different features in the model. There is exactly one graph for each feature in the model.\n",
    "\"\"\"\n",
    "if dataset_description is None or dataset_description == '':\n",
    "    prefix += \"\\n\\nThese inputs will be given to you by the user.\"\n",
    "else:\n",
    "    prefix += \"\\n\\nThe user will first provide a general description of what the dataset is about. Then you will be given the feature importance scores and the summaries of the individual features.\"\n",
    "\n",
    "suffix = \"\"\n",
    "\n",
    "if dataset_description is not None and len(dataset_description) > 0:\n",
    "    suffix += \"Here is the general description of the data set\\n\" + dataset_description\n",
    "    \n",
    "suffix += \"\\nHere are the global feature importances.Be sure not to provide these importances for the tool directly for prediction.\\n\\n\" + feature_importances \n",
    "#suffix += \"\\nHere are the descriptions of the different graphs.\\n\\n\"\n",
    "#suffix += graph_descriptions\n",
    "suffix+=\"\"\"\n",
    "Complete the objective as best you can. You have access to the following tools:\n",
    "\n",
    "Forecast: Use this tool when you need to predict the probabilities given a series of feature values in a Generalized Additive Model.It will return the prediction result and probability. Your final answer must begin with the results returned and your thoughts about the it, plus a conclusion based on the combination of the results returned and the description of the data set. To use the tool you must provide a list consisting of the value of each feature. The value must be provided in question. For example, the question is if a persion's Age is 27, WorkClass is Private,fnlwgt is 160178,Education is Some-college, EducationNum is 10, MaritalStatus is Divorced,Occupation is Adm-clerical,what is the prediction. you need to provide this tool with [27,' Private', 160178,' Some-college', 10, ' Divorced', ' Adm-clerical'].Remember to put quotes around the word in the list.\n",
    "Python_REPL: Use this to execute python commands and plot. Input should be a valid python command. If you want to see the output of a value, you should print it out with `print(...)`.You can keep reusing this tool until you get the final answer.\n",
    "\n",
    "If you need to use the Python_REPL tool, you must comply with the following regulations:\n",
    "\n",
    "    If you get an error, debug your code and try again.\n",
    "    You might know the answer without running any code, but you should still run the code to get the answer.\n",
    "    If it does not seem like you can write code to answer the question, just return \"I don't know\" as the answer.\n",
    "    You must save the generated image through code before you show it. In other words,You can't use 'plt.show()' \n",
    "    Your Final Answer must start with the entire executed code, and then print the image information in the form of a string in the format of '![image description](image address, which can be a local link)'.\n",
    "\n",
    "\n",
    "Use the following format:\n",
    "\n",
    "Question: the input question you must answer\n",
    "Thought: you should always think about what to do\n",
    "Action: the action to take, must be one of {tool_names}\n",
    "Action Input: the input to the action\n",
    "Observation: the result of the action\n",
    "... (this Thought/Action/Action Input/Observation can repeat N times)\n",
    "Thought: I now know the final answer\n",
    "Final Answer: the final answer to the original input question\n",
    "\n",
    "Begin!\n",
    "\n",
    "Previous conversation history:\n",
    "{history}\n",
    "\n",
    "Question: {input}\n",
    "{agent_scratchpad}\"\"\"\n",
    "template = prefix + suffix"
   ]
  },
  {
   "cell_type": "code",
   "execution_count": 220,
   "metadata": {},
   "outputs": [],
   "source": [
    "# Set up a prompt template 按照定义的 template，将需要的值都填写进去\n",
    "class CustomPromptTemplate(BaseChatPromptTemplate):\n",
    "    # The template to use\n",
    "    template: str\n",
    "    # The list of tools available\n",
    "    tools: List[Tool]\n",
    "    \n",
    "    def format_messages(self, **kwargs) -> str:\n",
    "        # Get the intermediate steps (AgentAction, Observation tuples)\n",
    "        # Format them in a particular way\n",
    "        intermediate_steps = kwargs.pop(\"intermediate_steps\")\n",
    "        thoughts = \"\"\n",
    "        for action, observation in intermediate_steps:\n",
    "            thoughts += action.log\n",
    "            thoughts += f\"\\nObservation: {observation}\\nThought: \"\n",
    "        # Set the agent_scratchpad variable to that value\n",
    "        kwargs[\"agent_scratchpad\"] = thoughts\n",
    "        # Create a tools variable from the list of tools provided\n",
    "        kwargs[\"tools\"] = \"\\n\".join([f\"{tool.name}: {tool.description}\" for tool in self.tools])\n",
    "        # Create a list of tool names for the tools provided\n",
    "        kwargs[\"tool_names\"] = \", \".join([tool.name for tool in self.tools])\n",
    "        formatted = self.template.format(**kwargs)\n",
    "        return [HumanMessage(content=formatted)]"
   ]
  },
  {
   "cell_type": "code",
   "execution_count": 221,
   "metadata": {},
   "outputs": [
    {
     "ename": "ValidationError",
     "evalue": "1 validation error for CustomPromptTemplate\ntools -> 0\n  Tool.__init__() missing 1 required positional argument: 'func' (type=type_error)",
     "output_type": "error",
     "traceback": [
      "\u001b[1;31m---------------------------------------------------------------------------\u001b[0m",
      "\u001b[1;31mValidationError\u001b[0m                           Traceback (most recent call last)",
      "Cell \u001b[1;32mIn[221], line 1\u001b[0m\n\u001b[1;32m----> 1\u001b[0m prompt \u001b[38;5;241m=\u001b[39m \u001b[43mCustomPromptTemplate\u001b[49m\u001b[43m(\u001b[49m\n\u001b[0;32m      2\u001b[0m \u001b[43m    \u001b[49m\u001b[43mtemplate\u001b[49m\u001b[38;5;241;43m=\u001b[39;49m\u001b[43mtemplate\u001b[49m\u001b[43m,\u001b[49m\n\u001b[0;32m      3\u001b[0m \u001b[43m    \u001b[49m\u001b[43mtools\u001b[49m\u001b[38;5;241;43m=\u001b[39;49m\u001b[43mtools\u001b[49m\u001b[43m,\u001b[49m\n\u001b[0;32m      4\u001b[0m \u001b[43m    \u001b[49m\u001b[38;5;66;43;03m# This omits the `agent_scratchpad`, `tools`, and `tool_names` variables because those are generated dynamically\u001b[39;49;00m\n\u001b[0;32m      5\u001b[0m \u001b[43m    \u001b[49m\u001b[38;5;66;43;03m# This includes the `intermediate_steps` variable because that is needed\u001b[39;49;00m\n\u001b[0;32m      6\u001b[0m \u001b[43m    \u001b[49m\u001b[43minput_variables\u001b[49m\u001b[38;5;241;43m=\u001b[39;49m\u001b[43m[\u001b[49m\u001b[38;5;124;43m\"\u001b[39;49m\u001b[38;5;124;43minput\u001b[39;49m\u001b[38;5;124;43m\"\u001b[39;49m\u001b[43m,\u001b[49m\u001b[43m \u001b[49m\u001b[38;5;124;43m\"\u001b[39;49m\u001b[38;5;124;43mintermediate_steps\u001b[39;49m\u001b[38;5;124;43m\"\u001b[39;49m\u001b[43m,\u001b[49m\u001b[38;5;124;43m\"\u001b[39;49m\u001b[38;5;124;43mhistory\u001b[39;49m\u001b[38;5;124;43m\"\u001b[39;49m\u001b[43m]\u001b[49m\n\u001b[0;32m      7\u001b[0m \u001b[43m)\u001b[49m\n",
      "File \u001b[1;32mD:\\anaconda3\\lib\\site-packages\\langchain\\load\\serializable.py:97\u001b[0m, in \u001b[0;36mSerializable.__init__\u001b[1;34m(self, **kwargs)\u001b[0m\n\u001b[0;32m     96\u001b[0m \u001b[38;5;28;01mdef\u001b[39;00m \u001b[38;5;21m__init__\u001b[39m(\u001b[38;5;28mself\u001b[39m, \u001b[38;5;241m*\u001b[39m\u001b[38;5;241m*\u001b[39mkwargs: Any) \u001b[38;5;241m-\u001b[39m\u001b[38;5;241m>\u001b[39m \u001b[38;5;28;01mNone\u001b[39;00m:\n\u001b[1;32m---> 97\u001b[0m     \u001b[38;5;28msuper\u001b[39m()\u001b[38;5;241m.\u001b[39m\u001b[38;5;21m__init__\u001b[39m(\u001b[38;5;241m*\u001b[39m\u001b[38;5;241m*\u001b[39mkwargs)\n\u001b[0;32m     98\u001b[0m     \u001b[38;5;28mself\u001b[39m\u001b[38;5;241m.\u001b[39m_lc_kwargs \u001b[38;5;241m=\u001b[39m kwargs\n",
      "File \u001b[1;32mD:\\anaconda3\\lib\\site-packages\\pydantic\\main.py:341\u001b[0m, in \u001b[0;36mpydantic.main.BaseModel.__init__\u001b[1;34m()\u001b[0m\n",
      "\u001b[1;31mValidationError\u001b[0m: 1 validation error for CustomPromptTemplate\ntools -> 0\n  Tool.__init__() missing 1 required positional argument: 'func' (type=type_error)"
     ]
    }
   ],
   "source": [
    "prompt = CustomPromptTemplate(\n",
    "    template=template,\n",
    "    tools=tools,\n",
    "    # This omits the `agent_scratchpad`, `tools`, and `tool_names` variables because those are generated dynamically\n",
    "    # This includes the `intermediate_steps` variable because that is needed\n",
    "    input_variables=[\"input\", \"intermediate_steps\",\"history\"]\n",
    ")"
   ]
  },
  {
   "cell_type": "code",
   "execution_count": 208,
   "metadata": {},
   "outputs": [],
   "source": [
    "memory_ag = ConversationBufferMemory(memory_key=\"history\")"
   ]
  },
  {
   "cell_type": "code",
   "execution_count": 180,
   "metadata": {},
   "outputs": [],
   "source": [
    "#未改动的\n",
    "class CustomOutputParser(AgentOutputParser):\n",
    "    \n",
    "    def parse(self, llm_output: str) -> Union[AgentAction, AgentFinish]:\n",
    "        # Check if agent should finish\n",
    "        if \"Final Answer:\" in llm_output:\n",
    "            return AgentFinish(\n",
    "                # Return values is generally always a dictionary with a single `output` key\n",
    "                # It is not recommended to try anything else at the moment :)\n",
    "                return_values={\"output\": llm_output.split(\"Final Answer:\")[-1].strip()},\n",
    "                log=llm_output,\n",
    "            )\n",
    "        # Parse out the action and action input\n",
    "        regex = r\"Action\\s*\\d*\\s*:(.*?)\\nAction\\s*\\d*\\s*Input\\s*\\d*\\s*:[\\s]*(.*)\"\n",
    "        match = re.search(regex, llm_output, re.DOTALL)\n",
    "        if not match:\n",
    "            raise ValueError(f\"Could not parse LLM output: `{llm_output}`\")\n",
    "        action = match.group(1).strip()\n",
    "        action_input = match.group(2)\n",
    "        # Return the action and action input\n",
    "        return AgentAction(tool=action, tool_input=action_input.strip(\" \").strip('\"'), log=llm_output)"
   ]
  },
  {
   "cell_type": "code",
   "execution_count": 181,
   "metadata": {},
   "outputs": [],
   "source": [
    "#解析 llm 的输出，根据输出文本找到需要执行的决策。\n",
    "class CustomOutputParser(AgentOutputParser):\n",
    "    \n",
    "    def parse(self, llm_output: str) -> Union[AgentAction, AgentFinish]:\n",
    "        # Check if agent should finish\n",
    "        if \"Final Answer:\" in llm_output:\n",
    "            return AgentFinish(\n",
    "                # Return values is generally always a dictionary with a single `output` key\n",
    "                # It is not recommended to try anything else at the moment :)\n",
    "                return_values={\"output\": llm_output.split(\"Final Answer:\")[-1].strip()},\n",
    "                log=llm_output,\n",
    "            )\n",
    "        # Parse out the action and action input\n",
    "        regex = r\"Action\\s*\\d*\\s*:(.*?)\\nAction\\s*\\d*\\s*Input\\s*\\d*\\s*:[\\s]*(.*)\"\n",
    "        match = re.search(regex, llm_output, re.DOTALL)\n",
    "        if not match:\n",
    "            new_out = llm_output.split(\"Action:\")[0]\n",
    "            return AgentFinish(\n",
    "                return_values={\"output\": new_out.split(\":\")[1].strip()},\n",
    "                log=llm_output,\n",
    "            )\n",
    "            #raise ValueError(f\"Could not parse LLM output: `{llm_output}`\")\n",
    "        action = match.group(1).strip()\n",
    "        action_input = match.group(2)\n",
    "        # Return the action and action input\n",
    "        return AgentAction(tool=action, tool_input=action_input.strip(\" \").strip('\"'), log=llm_output)"
   ]
  },
  {
   "cell_type": "code",
   "execution_count": 182,
   "metadata": {},
   "outputs": [],
   "source": [
    "output_parser = CustomOutputParser()"
   ]
  },
  {
   "cell_type": "code",
   "execution_count": 183,
   "metadata": {},
   "outputs": [],
   "source": [
    "# LLM chain consisting of the LLM and a prompt\n",
    "llm_chain = LLMChain(llm=llm, prompt=prompt)"
   ]
  },
  {
   "cell_type": "code",
   "execution_count": 184,
   "metadata": {},
   "outputs": [],
   "source": [
    "tool_names = [tool.name for tool in tools]\n",
    "agent = LLMSingleActionAgent(\n",
    "    llm_chain=llm_chain, \n",
    "    output_parser=output_parser,\n",
    "    stop=[\"\\nObservation:\"], \n",
    "    allowed_tools=tool_names\n",
    ")"
   ]
  },
  {
   "cell_type": "code",
   "execution_count": 185,
   "metadata": {},
   "outputs": [],
   "source": [
    "agent_executor = AgentExecutor.from_agent_and_tools(agent=agent, tools=tools, memory=memory_ag ,verbose=True)"
   ]
  },
  {
   "cell_type": "code",
   "execution_count": 186,
   "metadata": {},
   "outputs": [],
   "source": [
    "#用于判断链的prompt\n",
    "prompt_template = (\"I'm going to give you a question: {query}. Please determine whether the operation required for this problem \"\n",
    "        \"is plotting, prediction or other operations. Attention! Your reply must be one of [plot, other].\\n\"\n",
    "        \"For example, the question is: can you draw a simple chart? You only need to reply with one word: plot.\\n \"\n",
    "        \"If this question does not require plotting You only need to reply with one word: other.\"\n",
    "       )"
   ]
  },
  {
   "cell_type": "code",
   "execution_count": 187,
   "metadata": {},
   "outputs": [],
   "source": [
    "#判断query是否需要画图\n",
    "judge_chain = LLMChain(\n",
    "    llm=llm,\n",
    "    prompt=PromptTemplate.from_template(prompt_template)\n",
    ")"
   ]
  },
  {
   "cell_type": "code",
   "execution_count": 188,
   "metadata": {},
   "outputs": [],
   "source": [
    "#整个对话流程\n",
    "def ag(query,agent = agent_executor,llm_chain = judge_chain):\n",
    "    #判断此次对话llm需要进行的操作\n",
    "    action = llm_chain.run(query) \n",
    "    if 'plot' in action:\n",
    "        md_text = agent.run(query)\n",
    "        md2img(md_text)\n",
    "    else:\n",
    "        print(agent.run(query))"
   ]
  },
  {
   "cell_type": "code",
   "execution_count": 175,
   "metadata": {},
   "outputs": [
    {
     "name": "stdout",
     "output_type": "stream",
     "text": [
      "\n",
      "\n",
      "\u001b[1m> Entering new AgentExecutor chain...\u001b[0m\n",
      "\u001b[32;1m\u001b[1;3mThought: To show the importance of each feature, I can create a bar chart with the feature names on the x-axis and the importance scores on the y-axis.\n",
      "\n",
      "Action: Python_REPL\n",
      "Action Input: \n",
      "```python\n",
      "import matplotlib.pyplot as plt\n",
      "\n",
      "features = ['HomePlanet', 'CryoSleep', 'Cabin', 'Destination', 'Age', 'VIP', 'RoomService', 'FoodCourt', 'ShoppingMall', 'Spa', 'VRDeck']\n",
      "importances = [0.47, 0.52, 0.39, 0.15, 0.11, 0.01, 0.52, 0.31, 0.13, 0.75, 0.66]\n",
      "\n",
      "plt.bar(features, importances)\n",
      "plt.xlabel('Features')\n",
      "plt.ylabel('Importance')\n",
      "plt.title('Feature Importances')\n",
      "plt.xticks(rotation=90)\n",
      "plt.show()\n",
      "```\n",
      "\u001b[0m\n",
      "\n",
      "Observation:\u001b[33;1m\u001b[1;3mNone\u001b[0m\n",
      "\u001b[32;1m\u001b[1;3mI need to print the image of the bar chart to show the feature importances.\n",
      "\n",
      "Action: Python_REPL\n",
      "Action Input: \n",
      "```python\n",
      "plt.savefig('feature_importances.png')\n",
      "```\n",
      "\u001b[0m\n",
      "\n",
      "Observation:\u001b[33;1m\u001b[1;3mNone\u001b[0m\n",
      "\u001b[32;1m\u001b[1;3mI have saved the image of the bar chart as \"feature_importances.png\".\n",
      "\n",
      "Final Answer: ![Feature Importances](feature_importances.png)\u001b[0m\n",
      "\n",
      "\u001b[1m> Finished chain.\u001b[0m\n"
     ]
    },
    {
     "data": {
      "text/html": [
       "<img src=\"feature_importances.png\" alt=\"Feature Importances\"/>"
      ],
      "text/plain": [
       "<IPython.core.display.Image object>"
      ]
     },
     "metadata": {},
     "output_type": "display_data"
    }
   ],
   "source": [
    "ag(\"Show me the importance of each feature by plotting a chart.\")"
   ]
  },
  {
   "cell_type": "code",
   "execution_count": 37,
   "metadata": {},
   "outputs": [
    {
     "name": "stdout",
     "output_type": "stream",
     "text": [
      "\n",
      "\n",
      "\u001b[1m> Entering new AgentExecutor chain...\u001b[0m\n",
      "\u001b[32;1m\u001b[1;3mThought: To summarize the model, I need to highlight the most important information about it.\n",
      "\n",
      "Action: Provide a summary of the model.\n",
      "\u001b[0m\n",
      "\n",
      "\u001b[1m> Finished chain.\u001b[0m\n"
     ]
    },
    {
     "data": {
      "text/plain": [
       "'To summarize the model, I need to highlight the most important information about it.'"
      ]
     },
     "execution_count": 37,
     "metadata": {},
     "output_type": "execute_result"
    }
   ],
   "source": [
    "agent_executor.run(\"Now give a summary about the model at most 10 sentences. Be sure to keep the most important information.\")"
   ]
  },
  {
   "cell_type": "code",
   "execution_count": 38,
   "metadata": {},
   "outputs": [
    {
     "name": "stdout",
     "output_type": "stream",
     "text": [
      "\n",
      "\n",
      "\u001b[1m> Entering new AgentExecutor chain...\u001b[0m\n",
      "\u001b[32;1m\u001b[1;3mThought: We need to use the Forecast tool to predict the result based on the given feature values.\n",
      "\n",
      "Action: Forecast\n",
      "Action Input: ['Earth', False, 'F/4/S', 'TRAPPIST-1e', 19.0, False, 0.0, 9.0, 0.0, 2823.0, 0.0]\u001b[0m\n",
      "\n",
      "Observation:\u001b[36;1m\u001b[1;3mThe prediction result is False，and the probability that the result comes to fruition is 0.9784426655431476\u001b[0m\n",
      "\u001b[32;1m\u001b[1;3mBased on the given feature values, the model predicts that the person was not transported to an alternate dimension during the collision with the spacetime anomaly. The probability of this prediction is 0.9784426655431476.\n",
      "\n",
      "Final Answer: The model predicts that the person was not transported to an alternate dimension with a probability of 0.9784426655431476.\u001b[0m\n",
      "\n",
      "\u001b[1m> Finished chain.\u001b[0m\n"
     ]
    },
    {
     "data": {
      "text/plain": [
       "'The model predicts that the person was not transported to an alternate dimension with a probability of 0.9784426655431476.'"
      ]
     },
     "execution_count": 38,
     "metadata": {},
     "output_type": "execute_result"
    }
   ],
   "source": [
    "agent_executor.run(\"If a person's HomePlanet is Earth, CryoSleep is False, Cabin is F/4/S, Destination is TRAPPIST-1e, Age is 19.0, VIP is False, RoomService is 0.0, FoodCourt is 9.0, ShoppingMall is 0.0, Spa is 2823.0, VRDeck is 0.0, what is the prediction result?\")"
   ]
  },
  {
   "cell_type": "code",
   "execution_count": 39,
   "metadata": {
    "scrolled": true
   },
   "outputs": [
    {
     "name": "stdout",
     "output_type": "stream",
     "text": [
      "\n",
      "\n",
      "\u001b[1m> Entering new AgentExecutor chain...\u001b[0m\n",
      "\u001b[32;1m\u001b[1;3mThought: To predict the probability, I will use the Forecast tool with the given feature values.\n",
      "\n",
      "Action: Forecast\n",
      "Action Input: ['Earth', False, 'F/4/S', 'TRAPPIST-1e', 19.0, False, 0.0, 9.0, 0.0, 2823.0, 0.0]\u001b[0m\n",
      "\n",
      "Observation:\u001b[36;1m\u001b[1;3mThe prediction result is False，and the probability that the result comes to fruition is 0.9784426655431476\u001b[0m\n",
      "\u001b[32;1m\u001b[1;3mBased on the given feature values, the model predicts that the person was not transported to an alternate dimension with a probability of 0.9784426655431476.\n",
      "\n",
      "Final Answer: The probability that the person was not transported to an alternate dimension is 0.9784426655431476.\u001b[0m\n",
      "\n",
      "\u001b[1m> Finished chain.\u001b[0m\n"
     ]
    },
    {
     "data": {
      "text/plain": [
       "'The probability that the person was not transported to an alternate dimension is 0.9784426655431476.'"
      ]
     },
     "execution_count": 39,
     "metadata": {},
     "output_type": "execute_result"
    }
   ],
   "source": [
    "agent_executor.run(\"If a person's HomePlanet is Earth, CryoSleep is False, Cabin is F/4/S, Destination is TRAPPIST-1e, Age is 19.0, VIP is False, RoomService is 0.0, FoodCourt is 9.0, ShoppingMall is 0.0, Spa is 2823.0, VRDeck is 0.0, what is the probability that it is sent to the alternate dimension?\")"
   ]
  },
  {
   "cell_type": "code",
   "execution_count": 189,
   "metadata": {
    "scrolled": true
   },
   "outputs": [
    {
     "name": "stdout",
     "output_type": "stream",
     "text": [
      "\n",
      "\n",
      "\u001b[1m> Entering new AgentExecutor chain...\u001b[0m\n",
      "\u001b[32;1m\u001b[1;3mThought: To show the importance of each feature, I can create a bar chart with the feature names on the x-axis and the importance scores on the y-axis.\n",
      "\n",
      "Action: Python_REPL\n",
      "Action Input: \n",
      "```python\n",
      "import matplotlib.pyplot as plt\n",
      "\n",
      "feature_names = ['HomePlanet', 'CryoSleep', 'Cabin', 'Destination', 'Age', 'VIP', 'RoomService', 'FoodCourt', 'ShoppingMall', 'Spa', 'VRDeck']\n",
      "importance_scores = [0.47, 0.52, 0.39, 0.15, 0.11, 0.01, 0.52, 0.31, 0.13, 0.75, 0.66]\n",
      "\n",
      "plt.bar(feature_names, importance_scores)\n",
      "plt.xlabel('Feature')\n",
      "plt.ylabel('Importance Score')\n",
      "plt.title('Feature Importance')\n",
      "plt.xticks(rotation=45)\n",
      "plt.savefig('feature_importance.png')\n",
      "```\n",
      "\u001b[0m\n",
      "\n",
      "Observation:\u001b[33;1m\u001b[1;3mNone\u001b[0m\n",
      "\u001b[32;1m\u001b[1;3mThe bar chart has been created and saved as 'feature_importance.png'.\n",
      "\n",
      "Final Answer: ![Feature Importance](feature_importance.png)\u001b[0m\n",
      "\n",
      "\u001b[1m> Finished chain.\u001b[0m\n"
     ]
    },
    {
     "data": {
      "text/plain": [
       "'![Feature Importance](feature_importance.png)'"
      ]
     },
     "execution_count": 189,
     "metadata": {},
     "output_type": "execute_result"
    }
   ],
   "source": [
    "agent_executor.run(\"Show me the importance of each feature by plotting a chart.\")"
   ]
  },
  {
   "cell_type": "code",
   "execution_count": 67,
   "metadata": {},
   "outputs": [
    {
     "name": "stdout",
     "output_type": "stream",
     "text": [
      "You are an expert statistician and data scientist.\n",
      "        \n",
      "Your task is complete some tasks about a Generalized Additive Model (GAM). The model consists of different graphs that contain the effect of a specific input feature.\n",
      "You are bad at math such as predict the probability. So you must directly use the tool when asked about math problem. \n",
      "\n",
      "You will be given:\n",
      "    - The global feature importances of the different features in the model.\n",
      "    - Summaries of the graphs for the different features in the model. There is exactly one graph for each feature in the model.\n",
      "\n",
      "\n",
      "The user will first provide a general description of what the dataset is about. Then you will be given the feature importance scores and the summaries of the individual features.Here is the general description of the data set\n",
      "\n",
      "Hi there, here is a general description of the data set on which I trained the model. This description is from kaggle:\n",
      "\n",
      "Welcome to the year 2912, where your data science skills are needed to solve a cosmic mystery. We've received a transmission from four lightyears away and things aren't looking good.\n",
      "\n",
      "The Spaceship Titanic was an interstellar passenger liner launched a month ago. With almost 13,000 passengers on board, the vessel set out on its maiden voyage transporting emigrants from our solar system to three newly habitable exoplanets orbiting nearby stars.\n",
      "\n",
      "While rounding Alpha Centauri en route to its first destination—the torrid 55 Cancri E—the unwary Spaceship Titanic collided with a spacetime anomaly hidden within a dust cloud. Sadly, it met a similar fate as its namesake from 1000 years before. Though the ship stayed intact, almost half of the passengers were transported to an alternate dimension!\n",
      "\n",
      "To help rescue crews and retrieve the lost passengers, you are challenged to predict which passengers were transported by the anomaly using records recovered from the spaceship’s damaged computer system.\n",
      "\n",
      "The task is to predict whether a passenger was transported to an alternate dimension during the Spaceship Titanic's collision with the spacetime anomaly. To help you make these predictions, you're given a set of personal records recovered from the ship's damaged computer system.\n",
      "\n",
      "Feature Descriptions:\n",
      "\n",
      "PassengerId - A unique Id for each passenger. Each Id takes the form gggg_pp where gggg indicates a group the passenger is travelling with and pp is their number within the group. People in a group are often family members, but not always.\n",
      "HomePlanet - The planet the passenger departed from, typically their planet of permanent residence.\n",
      "CryoSleep - Indicates whether the passenger elected to be put into suspended animation for the duration of the voyage. Passengers in cryosleep are confined to their cabins.\n",
      "Cabin - The cabin number where the passenger is staying. Takes the form deck/num/side, where side can be either P for Port or S for Starboard.\n",
      "Destination - The planet the passenger will be debarking to.\n",
      "Age - The age of the passenger.\n",
      "VIP - Whether the passenger has paid for special VIP service during the voyage.\n",
      "RoomService, FoodCourt, ShoppingMall, Spa, VRDeck - Amount the passenger has billed at each of the Spaceship Titanic's many luxury amenities.\n",
      "Name - The first and last names of the passenger.\n",
      "\n",
      "Here are the global feature importances.Be sure not to provide these importances for the tool directly for prediction.\n",
      "\n",
      "HomePlanet: 0.47\n",
      "CryoSleep: 0.52\n",
      "Cabin: 0.39\n",
      "Destination: 0.15\n",
      "Age: 0.11\n",
      "VIP: 0.01\n",
      "RoomService: 0.52\n",
      "FoodCourt: 0.31\n",
      "ShoppingMall: 0.13\n",
      "Spa: 0.75\n",
      "VRDeck: 0.66\n",
      "\n",
      "Complete the objective as best you can. You have access to the following tools:\n",
      "\n",
      "{tools}\n",
      "\n",
      "If you need to use the Python_REPL tool, you must comply with the following regulations:\n",
      "\n",
      "    If you get an error, debug your code and try again.\n",
      "    You might know the answer without running any code, but you should still run the code to get the answer.\n",
      "    If it does not seem like you can write code to answer the question, just return \"I don't know\" as the answer.\n",
      "    You must save the generated image through code before you show it.\n",
      "    Your Final Answer must start with the entire executed code, and then print the image information in the form of a string in the format of '![image description](image address, which can be a local link)'.\n",
      "\n",
      "\n",
      "Use the following format:\n",
      "\n",
      "Question: the input question you must answer\n",
      "Thought: you should always think about what to do\n",
      "Action: the action to take, should be one of {tool_names}\n",
      "Action Input: the input to the action\n",
      "Observation: the result of the action\n",
      "... (this Thought/Action/Action Input/Observation can repeat N times)\n",
      "Thought: I now know the final answer\n",
      "Final Answer: the final answer to the original input question\n",
      "\n",
      "Begin!\n",
      "\n",
      "Previous conversation history:\n",
      "{history}\n",
      "\n",
      "Question: {input}\n",
      "{agent_scratchpad}\n"
     ]
    }
   ],
   "source": [
    "#显示agent的prompt template\n",
    "print(agent.llm_chain.prompt.template)"
   ]
  },
  {
   "cell_type": "code",
   "execution_count": null,
   "metadata": {},
   "outputs": [],
   "source": []
  },
  {
   "cell_type": "code",
   "execution_count": null,
   "metadata": {},
   "outputs": [],
   "source": []
  },
  {
   "cell_type": "code",
   "execution_count": null,
   "metadata": {},
   "outputs": [],
   "source": []
  },
  {
   "cell_type": "code",
   "execution_count": null,
   "metadata": {},
   "outputs": [],
   "source": []
  },
  {
   "cell_type": "code",
   "execution_count": null,
   "metadata": {},
   "outputs": [],
   "source": []
  },
  {
   "cell_type": "code",
   "execution_count": null,
   "metadata": {},
   "outputs": [],
   "source": []
  },
  {
   "cell_type": "markdown",
   "metadata": {},
   "source": [
    "## test"
   ]
  },
  {
   "cell_type": "code",
   "execution_count": 28,
   "metadata": {},
   "outputs": [
    {
     "name": "stdout",
     "output_type": "stream",
     "text": [
      "INFO: The graph of feature RoomService was simplified by 1.1%.\n",
      "INFO: The graph of feature FoodCourt was simplified by 0.4%.\n",
      "INFO: The graph of feature ShoppingMall was simplified by 0.4%.\n",
      "INFO: The graph of feature Spa was simplified by 0.6%.\n",
      "INFO: The graph of feature VRDeck was simplified by 0.6%.\n"
     ]
    }
   ],
   "source": [
    "#和ebm对话的prompt生成\n",
    "feature_importances = feature_importances_to_text(ebm) \n",
    "graphs = []\n",
    "graph_descriptions = []\n",
    "for feature_index in range(len(ebm.feature_names_in_)):       #获取ebm中的所有graph\n",
    "    graphs.append(t2ebm.graphs.extract_graph(ebm, feature_index))\n",
    "graphs = [t2ebm.graphs.graph_to_text(graph) for graph in graphs]\n",
    "'''graph_descriptions = [llm2graph_desc(llm,ebm,idx,dataset_description=dataset_description,y_axis_description=y_axis_description) for idx in range(len(ebm.feature_names_in_)) ]\n",
    "graph_descriptions = \"\\n\\n\".join(\n",
    "    [\n",
    "        ebm.feature_names_in_[idx] + \": \" + graph_description\n",
    "        for idx, graph_description in enumerate(graph_descriptions)\n",
    "    ]\n",
    ")'''\n",
    "\n",
    "prefix = \"\"\"You are an expert statistician and data scientist.\n",
    "        \n",
    "Your task is complete some tasks about a Generalized Additive Model (GAM). The model consists of different graphs that contain the effect of a specific input feature.\n",
    "You are bad at math such as predict the probability. So you must directly use the tool when asked about math problem. \n",
    "\n",
    "You will be given:\n",
    "    - The global feature importances of the different features in the model.\n",
    "    - Summaries of the graphs for the different features in the model. There is exactly one graph for each feature in the model.\n",
    "\"\"\"\n",
    "if dataset_description is None or dataset_description == '':\n",
    "    prefix += \"\\n\\nThese inputs will be given to you by the user.\"\n",
    "else:\n",
    "    prefix += \"\\n\\nThe user will first provide a general description of what the dataset is about. Then you will be given the feature importance scores and the summaries of the individual features.\"\n",
    "\n",
    "suffix = \"\"\n",
    "\n",
    "if dataset_description is not None and len(dataset_description) > 0:\n",
    "    suffix += \"Here is the general description of the data set\\n\" + dataset_description\n",
    "    \n",
    "suffix += \"\\nHere are the global feature importances.Be sure not to provide these importances for the tool directly for prediction.\\n\\n\" + feature_importances \n",
    "#suffix += \"\\nHere are the descriptions of the different graphs.\\n\\n\"\n",
    "#suffix += graph_descriptions\n",
    "suffix+=\"\"\"\n",
    "If you need to use the Python_REPL tool, you must comply with the following regulations:\n",
    "    If you get an error, debug your code and try again.\n",
    "    You might know the answer without running any code, but you should still run the code to get the answer.\n",
    "    If it does not seem like you can write code to answer the question, just return \"I don't know\" as the answer.\n",
    "    You must save the generated image through code before you show it. In other words,You can't use 'plt.show()' \n",
    "    Your Final Answer must start with the entire executed code, and then print the image information in the form of a string in the format of '![image description](image address, which can be a local link)'.\n",
    "\n",
    "Complete the objective as best you can. You have access to the following tools:\"\"\"\n",
    "prefix = prefix + suffix\n",
    "\n",
    "suffix = \"\"\"The Action must contain only the name of one tool, no extra words needed to form a sentence.\n",
    "\n",
    "Begin!\n",
    "\n",
    "{chat_history}\n",
    "Question: {input}\n",
    "{agent_scratchpad}\"\"\"\n"
   ]
  },
  {
   "cell_type": "code",
   "execution_count": 29,
   "metadata": {},
   "outputs": [],
   "source": [
    "prompt = ZeroShotAgent.create_prompt(\n",
    "    tools,\n",
    "    prefix=prefix,\n",
    "    suffix=suffix,\n",
    "    input_variables=[\"input\", \"chat_history\", \"agent_scratchpad\"],\n",
    ")\n",
    "memory = ConversationBufferMemory(memory_key=\"chat_history\")"
   ]
  },
  {
   "cell_type": "code",
   "execution_count": 30,
   "metadata": {},
   "outputs": [],
   "source": [
    "llm_chain = LLMChain(llm=llm, prompt=prompt)\n",
    "agent = ZeroShotAgent(llm_chain=llm_chain, tools=tools, verbose=True)\n",
    "agent_chain = AgentExecutor.from_agent_and_tools(\n",
    "    agent=agent, tools=tools, verbose=True, memory=memory,handle_parsing_errors=True\n",
    ")"
   ]
  },
  {
   "cell_type": "code",
   "execution_count": 31,
   "metadata": {},
   "outputs": [
    {
     "name": "stdout",
     "output_type": "stream",
     "text": [
      "\n",
      "\n",
      "\u001b[1m> Entering new AgentExecutor chain...\u001b[0m\n",
      "\u001b[32;1m\u001b[1;3mThought: To visualize the importance of each feature, I can create a bar chart with the feature names on the x-axis and the importance scores on the y-axis.\n",
      "\n",
      "Action: Python_REPL\n",
      "Action Input: None\n",
      "\u001b[0m\n",
      "Observation: \u001b[36;1m\u001b[1;3m\u001b[0m\n",
      "Thought:\u001b[32;1m\u001b[1;3mI can use the matplotlib library to create a bar chart.\n",
      "\n",
      "Action: Python_REPL\n",
      "Action Input: \n",
      "```python\n",
      "import matplotlib.pyplot as plt\n",
      "\n",
      "features = ['HomePlanet', 'CryoSleep', 'Cabin', 'Destination', 'Age', 'VIP', 'RoomService', 'FoodCourt', 'ShoppingMall', 'Spa', 'VRDeck']\n",
      "importances = [0.47, 0.52, 0.39, 0.15, 0.11, 0.01, 0.52, 0.31, 0.13, 0.75, 0.66]\n",
      "\n",
      "plt.bar(features, importances)\n",
      "plt.xlabel('Feature')\n",
      "plt.ylabel('Importance')\n",
      "plt.title('Importance of Each Feature')\n",
      "plt.xticks(rotation=45)\n",
      "plt.show()\n",
      "```\n",
      "\u001b[0m"
     ]
    },
    {
     "data": {
      "image/png": "[encoded data removed]",
      "text/plain": [
       "<Figure size 640x480 with 1 Axes>"
      ]
     },
     "metadata": {},
     "output_type": "display_data"
    },
    {
     "name": "stdout",
     "output_type": "stream",
     "text": [
      "\n",
      "Observation: \u001b[36;1m\u001b[1;3m\u001b[0m\n",
      "Thought:\u001b[32;1m\u001b[1;3mI can see that the bar chart has been created successfully. The x-axis represents the different features in the model, and the y-axis represents the importance scores. The height of each bar indicates the importance of the corresponding feature. \n",
      "\n",
      "Final Answer: ![Importance of Each Feature](image address, which can be a local link)\u001b[0m\n",
      "\n",
      "\u001b[1m> Finished chain.\u001b[0m\n"
     ]
    },
    {
     "data": {
      "text/plain": [
       "'![Importance of Each Feature](image address, which can be a local link)'"
      ]
     },
     "execution_count": 31,
     "metadata": {},
     "output_type": "execute_result"
    }
   ],
   "source": [
    "agent_chain.run(\"visualize the importance of each feature by plotting a chart.\")"
   ]
  },
  {
   "cell_type": "code",
   "execution_count": 32,
   "metadata": {
    "scrolled": true
   },
   "outputs": [
    {
     "name": "stdout",
     "output_type": "stream",
     "text": [
      "\n",
      "\n",
      "\u001b[1m> Entering new AgentExecutor chain...\u001b[0m\n",
      "\u001b[32;1m\u001b[1;3mThought: To add a polyline to the existing chart, I can use the matplotlib library in Python to plot the trend line based on the feature importances.\n",
      "\n",
      "Action: Python_REPL\n",
      "Action Input:\n",
      "```python\n",
      "import matplotlib.pyplot as plt\n",
      "\n",
      "# Feature importances\n",
      "features = ['HomePlanet', 'CryoSleep', 'Cabin', 'Destination', 'Age', 'VIP', 'RoomService', 'FoodCourt', 'ShoppingMall', 'Spa', 'VRDeck']\n",
      "importances = [0.47, 0.52, 0.39, 0.15, 0.11, 0.01, 0.52, 0.31, 0.13, 0.75, 0.66]\n",
      "\n",
      "# Plotting the feature importances\n",
      "plt.figure(figsize=(10, 6))\n",
      "plt.bar(features, importances)\n",
      "plt.xlabel('Features')\n",
      "plt.ylabel('Importance')\n",
      "plt.title('Importance of Each Feature')\n",
      "\n",
      "# Adding a trend line\n",
      "trend_x = range(len(features))\n",
      "trend_y = importances\n",
      "plt.plot(trend_x, trend_y, color='red', linestyle='--')\n",
      "\n",
      "# Saving the chart\n",
      "plt.savefig('feature_importance_chart.png')\n",
      "```\n",
      "\u001b[0m\n",
      "Observation: \u001b[36;1m\u001b[1;3m\u001b[0m\n",
      "Thought:\u001b[32;1m\u001b[1;3mThe code successfully adds a trend line to the existing chart and saves it as \"feature_importance_chart.png\".\n",
      "\n",
      "Final Answer: ![Importance of Each Feature](feature_importance_chart.png)\u001b[0m\n",
      "\n",
      "\u001b[1m> Finished chain.\u001b[0m\n"
     ]
    },
    {
     "data": {
      "text/plain": [
       "'![Importance of Each Feature](feature_importance_chart.png)'"
      ]
     },
     "execution_count": 32,
     "metadata": {},
     "output_type": "execute_result"
    },
    {
     "data": {
      "image/png": "[encoded data removed]",
      "text/plain": [
       "<Figure size 1000x600 with 1 Axes>"
      ]
     },
     "metadata": {},
     "output_type": "display_data"
    }
   ],
   "source": [
    "agent_chain.run(\"Based on the chart you just drew, modify the table and add a polyline that can represent the changing trend of the importance of these features. You must make modifications on the original chart, which means that the existing parts of the original chart cannot be changed.\")"
   ]
  },
  {
   "cell_type": "code",
   "execution_count": 66,
   "metadata": {},
   "outputs": [],
   "source": [
    "#用于判断链的prompt\n",
    "prompt_template = (\"I'm going to give you a question: {query}. Please determine whether the operation required for this problem \"\n",
    "        \"is plotting, prediction or other operations. Attention! Your reply must be one of [plot, other].\\n\"\n",
    "        \"For example, the question is: can you draw a simple chart? You only need to reply with one word: plot.\\n \"\n",
    "        \"If this question does not require plotting You only need to reply with one word: other.\"\n",
    "       )"
   ]
  },
  {
   "cell_type": "code",
   "execution_count": 53,
   "metadata": {},
   "outputs": [],
   "source": [
    "#判断query是否需要画图\n",
    "judge_chain = LLMChain(\n",
    "    llm=llm,\n",
    "    prompt=PromptTemplate.from_template(prompt_template)\n",
    ")"
   ]
  },
  {
   "cell_type": "code",
   "execution_count": 54,
   "metadata": {},
   "outputs": [],
   "source": [
    "#整个对话流程\n",
    "def ag(query,agent = agent_chain,llm_chain = judge_chain):\n",
    "    #判断此次对话llm需要进行的操作\n",
    "    action = llm_chain.run(query) \n",
    "    if 'plot' in action:\n",
    "        md_text = agent.run(query)\n",
    "        md2img(md_text)\n",
    "    else:\n",
    "        print(agent.run(query))"
   ]
  },
  {
   "cell_type": "code",
   "execution_count": 55,
   "metadata": {},
   "outputs": [
    {
     "data": {
      "text/html": [
       "<img src=\"feature_importances.png\" alt=\"image description\"/>"
      ],
      "text/plain": [
       "<IPython.core.display.Image object>"
      ]
     },
     "metadata": {},
     "output_type": "display_data"
    },
    {
     "data": {
      "image/png": "[encoded data removed]",
      "text/plain": [
       "<Figure size 640x480 with 1 Axes>"
      ]
     },
     "metadata": {},
     "output_type": "display_data"
    }
   ],
   "source": [
    "ag(\"Show me the importance of each feature by plotting a chart.\")"
   ]
  },
  {
   "cell_type": "code",
   "execution_count": null,
   "metadata": {},
   "outputs": [],
   "source": []
  },
  {
   "cell_type": "code",
   "execution_count": null,
   "metadata": {},
   "outputs": [],
   "source": []
  },
  {
   "cell_type": "code",
   "execution_count": 42,
   "metadata": {},
   "outputs": [
    {
     "name": "stdout",
     "output_type": "stream",
     "text": [
      "You are an expert statistician and data scientist.\n",
      "        \n",
      "Your task is complete some tasks about a Generalized Additive Model (GAM). The model consists of different graphs that contain the effect of a specific input feature.\n",
      "You are bad at math such as predict the probability. So you must directly use the tool when asked about math problem. \n",
      "\n",
      "You will be given:\n",
      "    - The global feature importances of the different features in the model.\n",
      "    - Summaries of the graphs for the different features in the model. There is exactly one graph for each feature in the model.\n",
      "\n",
      "\n",
      "The user will first provide a general description of what the dataset is about. Then you will be given the feature importance scores and the summaries of the individual features.Here is the general description of the data set\n",
      "\n",
      "Hi there, here is a general description of the data set on which I trained the model. This description is from kaggle:\n",
      "\n",
      "Welcome to the year 2912, where your data science skills are needed to solve a cosmic mystery. We've received a transmission from four lightyears away and things aren't looking good.\n",
      "\n",
      "The Spaceship Titanic was an interstellar passenger liner launched a month ago. With almost 13,000 passengers on board, the vessel set out on its maiden voyage transporting emigrants from our solar system to three newly habitable exoplanets orbiting nearby stars.\n",
      "\n",
      "While rounding Alpha Centauri en route to its first destination—the torrid 55 Cancri E—the unwary Spaceship Titanic collided with a spacetime anomaly hidden within a dust cloud. Sadly, it met a similar fate as its namesake from 1000 years before. Though the ship stayed intact, almost half of the passengers were transported to an alternate dimension!\n",
      "\n",
      "To help rescue crews and retrieve the lost passengers, you are challenged to predict which passengers were transported by the anomaly using records recovered from the spaceship’s damaged computer system.\n",
      "\n",
      "The task is to predict whether a passenger was transported to an alternate dimension during the Spaceship Titanic's collision with the spacetime anomaly. To help you make these predictions, you're given a set of personal records recovered from the ship's damaged computer system.\n",
      "\n",
      "Feature Descriptions:\n",
      "\n",
      "PassengerId - A unique Id for each passenger. Each Id takes the form gggg_pp where gggg indicates a group the passenger is travelling with and pp is their number within the group. People in a group are often family members, but not always.\n",
      "HomePlanet - The planet the passenger departed from, typically their planet of permanent residence.\n",
      "CryoSleep - Indicates whether the passenger elected to be put into suspended animation for the duration of the voyage. Passengers in cryosleep are confined to their cabins.\n",
      "Cabin - The cabin number where the passenger is staying. Takes the form deck/num/side, where side can be either P for Port or S for Starboard.\n",
      "Destination - The planet the passenger will be debarking to.\n",
      "Age - The age of the passenger.\n",
      "VIP - Whether the passenger has paid for special VIP service during the voyage.\n",
      "RoomService, FoodCourt, ShoppingMall, Spa, VRDeck - Amount the passenger has billed at each of the Spaceship Titanic's many luxury amenities.\n",
      "Name - The first and last names of the passenger.\n",
      "\n",
      "Here are the global feature importances.Be sure not to provide these importances for the tool directly for prediction.\n",
      "\n",
      "HomePlanet: 0.47\n",
      "CryoSleep: 0.52\n",
      "Cabin: 0.39\n",
      "Destination: 0.15\n",
      "Age: 0.11\n",
      "VIP: 0.01\n",
      "RoomService: 0.52\n",
      "FoodCourt: 0.31\n",
      "ShoppingMall: 0.13\n",
      "Spa: 0.75\n",
      "VRDeck: 0.66\n",
      "\n",
      "If you need to use the Python_REPL tool, you must comply with the following regulations:\n",
      "\n",
      "    If you get an error, debug your code and try again.\n",
      "    You might know the answer without running any code, but you should still run the code to get the answer.\n",
      "    If it does not seem like you can write code to answer the question, just return \"I don't know\" as the answer.\n",
      "    You must save the generated image through code before you show it. In other words,You can't use 'plt.show()' \n",
      "    Your Final Answer must start with the entire executed code, and then print the image information in the form of a string in the format of '![image description](image address, which can be a local link)'.\n",
      "\n",
      "Complete the objective as best you can. You have access to the following tools:\n",
      "\n",
      "Python_REPL: A Python shell. Use this to execute python commands. Input should be a valid python command. If you want to see the output of a value, you should print it out with `print(...)`.\n",
      "Forecast: use this tool when you need to predict the probabilities given a series of feature values in a Generalized Additive Model.It will return the prediction result and probability. Your final answer must begin with the results returned and your thoughts about the it, plus a conclusion based on the combination of the results returned and the description of the data set. To use the tool you must provide a list consisting of the value of each feature. The value must be provided in question. For example, the question is if a persion's Age is 27, WorkClass is Private,fnlwgt is 160178,Education is Some-college, EducationNum is 10, MaritalStatus is Divorced,Occupation is Adm-clerical,what is the prediction. you need to provide this tool with [27,' Private', 160178,' Some-college', 10, ' Divorced', ' Adm-clerical'].Remember to put quotes around the word in the list.\n",
      "\n",
      "Use the following format:\n",
      "\n",
      "Question: the input question you must answer\n",
      "Thought: you should always think about what to do\n",
      "Action: the action to take, should be one of [Python_REPL, Forecast]\n",
      "Action Input: the input to the action\n",
      "Observation: the result of the action\n",
      "... (this Thought/Action/Action Input/Observation can repeat N times)\n",
      "Thought: I now know the final answer\n",
      "Final Answer: the final answer to the original input question\n",
      "\n",
      "The Action must contain only the name of one tool, no extra words needed to form a sentence\n",
      "Begin!\n",
      "\n",
      "{chat_history}\n",
      "Question: {input}\n",
      "{agent_scratchpad}\n"
     ]
    }
   ],
   "source": [
    "print(prompt.template)"
   ]
  },
  {
   "cell_type": "code",
   "execution_count": null,
   "metadata": {},
   "outputs": [],
   "source": []
  }
 ],
 "metadata": {
  "kernelspec": {
   "display_name": "Python 3 (ipykernel)",
   "language": "python",
   "name": "python3"
  },
  "language_info": {
   "codemirror_mode": {
    "name": "ipython",
    "version": 3
   },
   "file_extension": ".py",
   "mimetype": "text/x-python",
   "name": "python",
   "nbconvert_exporter": "python",
   "pygments_lexer": "ipython3",
   "version": "3.10.11"
  }
 },
 "nbformat": 4,
 "nbformat_minor": 4
}
