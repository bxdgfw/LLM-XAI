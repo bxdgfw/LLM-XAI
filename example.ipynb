{
 "cells": [
  {
   "cell_type": "code",
   "execution_count": 1,
   "metadata": {},
   "outputs": [],
   "source": [
    "import os\n",
    "import openai\n",
    "openai.api_key = os.getenv(\"OPENAI_API_KEY\")\n",
    "openai.api_base=\"https://api.jarvis73.com/v1\"\n",
    "openai.organization = os.getenv(\"Organization ID\")\n",
    "#os.environ[\"OPENAI_API_KEY\"] = \"\""
   ]
  },
  {
   "cell_type": "code",
   "execution_count": 2,
   "metadata": {},
   "outputs": [],
   "source": [
    "import pandas as pd\n",
    "from sklearn.model_selection import train_test_split\n",
    "from ebm_agent import ebm_agent\n",
    "from langchain.chat_models import ChatOpenAI\n",
    "from interpret.glassbox import ExplainableBoostingClassifier"
   ]
  },
  {
   "attachments": {},
   "cell_type": "markdown",
   "metadata": {},
   "source": [
    "## 数据训练模型"
   ]
  },
  {
   "cell_type": "code",
   "execution_count": 3,
   "metadata": {},
   "outputs": [],
   "source": [
    "df = pd.read_csv(\"./data/spaceship-titanic/train.csv\") # replace with path to dataset on your machine\n",
    "df.head()\n",
    "\n",
    "dataset_description = \"\"\n",
    "y_axis_description = \"\"\n",
    "\n",
    "# transform cabin since 8000 unique values do not fit into the context windows of the LLM we want to use\n",
    "df['Cabin'] = df['Cabin'].map(lambda x: x[:1] + '/' + x[-1] if isinstance(x, str) else x)\n",
    "\n",
    "# pandas to numpy array\n",
    "X_data = df.drop(columns=[\"PassengerId\", \"Transported\", \"Name\"]).values\n",
    "y_data = df[\"Transported\"].values\n",
    "\n",
    "X_train, X_test, y_train, y_test = train_test_split(X_data, y_data, test_size=0.2, random_state=42)"
   ]
  },
  {
   "cell_type": "code",
   "execution_count": 4,
   "metadata": {},
   "outputs": [],
   "source": [
    "dataset_description = \"\"\"\\nHi there, here is a general description of the data set on which I trained the model. This description is from kaggle:\n",
    "\n",
    "Welcome to the year 2912, where your data science skills are needed to solve a cosmic mystery. We've received a transmission from four lightyears away and things aren't looking good.\n",
    "\n",
    "The Spaceship Titanic was an interstellar passenger liner launched a month ago. With almost 13,000 passengers on board, the vessel set out on its maiden voyage transporting emigrants from our solar system to three newly habitable exoplanets orbiting nearby stars.\n",
    "\n",
    "While rounding Alpha Centauri en route to its first destination—the torrid 55 Cancri E—the unwary Spaceship Titanic collided with a spacetime anomaly hidden within a dust cloud. Sadly, it met a similar fate as its namesake from 1000 years before. Though the ship stayed intact, almost half of the passengers were transported to an alternate dimension!\n",
    "\n",
    "To help rescue crews and retrieve the lost passengers, you are challenged to predict which passengers were transported by the anomaly using records recovered from the spaceship’s damaged computer system.\n",
    "\n",
    "The task is to predict whether a passenger was transported to an alternate dimension during the Spaceship Titanic's collision with the spacetime anomaly. To help you make these predictions, you're given a set of personal records recovered from the ship's damaged computer system.\n",
    "\n",
    "Feature Descriptions:\n",
    "\n",
    "PassengerId - A unique Id for each passenger. Each Id takes the form gggg_pp where gggg indicates a group the passenger is travelling with and pp is their number within the group. People in a group are often family members, but not always.\n",
    "HomePlanet - The planet the passenger departed from, typically their planet of permanent residence.\n",
    "CryoSleep - Indicates whether the passenger elected to be put into suspended animation for the duration of the voyage. Passengers in cryosleep are confined to their cabins.\n",
    "Cabin - The cabin number where the passenger is staying. Takes the form deck/num/side, where side can be either P for Port or S for Starboard.\n",
    "Destination - The planet the passenger will be debarking to.\n",
    "Age - The age of the passenger.\n",
    "VIP - Whether the passenger has paid for special VIP service during the voyage.\n",
    "RoomService, FoodCourt, ShoppingMall, Spa, VRDeck - Amount the passenger has billed at each of the Spaceship Titanic's many luxury amenities.\n",
    "Name - The first and last names of the passenger.\n",
    "\"\"\"\n",
    "\n",
    "y_axis_description = \"The y-axis depicts contributions in log-odds towards the outcome, that is the probability that the passenger was transported to another dimension.\""
   ]
  },
  {
   "cell_type": "code",
   "execution_count": 5,
   "metadata": {},
   "outputs": [
    {
     "name": "stderr",
     "output_type": "stream",
     "text": [
      "d:\\anaconda3\\lib\\site-packages\\interpret\\glassbox\\_ebm\\_ebm.py:669: UserWarning: Missing values detected. Our visualizations do not currently display missing values. To retain the glassbox nature of the model you need to either set the missing values to an extreme value like -1000 that will be visible on the graphs, or manually examine the missing value score in ebm.term_scores_[term_index][0]\n",
      "  warn(\n"
     ]
    },
    {
     "data": {
      "text/plain": [
       "0.78953421506613"
      ]
     },
     "execution_count": 5,
     "metadata": {},
     "output_type": "execute_result"
    }
   ],
   "source": [
    "feature_names = df.drop(columns=[\"PassengerId\", \"Transported\", \"Name\"]).columns.tolist()\n",
    "\n",
    "ebm = ExplainableBoostingClassifier(interactions=0, \n",
    "                                    feature_names=feature_names)\n",
    "\n",
    "ebm.fit(X_train, y_train)\n",
    "ebm.score(X_test, y_test)"
   ]
  },
  {
   "cell_type": "code",
   "execution_count": 6,
   "metadata": {},
   "outputs": [],
   "source": [
    "llm = ChatOpenAI(model_name= \"gpt-3.5-turbo-16k\",temperature=0)\n",
    "llm_gpt4 = ChatOpenAI(model_name= \"gpt-4\",temperature=0)"
   ]
  },
  {
   "cell_type": "code",
   "execution_count": 7,
   "metadata": {},
   "outputs": [],
   "source": [
    "df = pd.read_csv(\"./data/spaceship-titanic/test.csv\")"
   ]
  },
  {
   "cell_type": "code",
   "execution_count": 10,
   "metadata": {},
   "outputs": [
    {
     "name": "stdout",
     "output_type": "stream",
     "text": [
      "INFO: The graph of feature RoomService was simplified by 1.1%.\n",
      "INFO: The graph of feature FoodCourt was simplified by 0.4%.\n",
      "INFO: The graph of feature ShoppingMall was simplified by 0.4%.\n",
      "INFO: The graph of feature Spa was simplified by 0.6%.\n",
      "INFO: The graph of feature VRDeck was simplified by 0.6%.\n"
     ]
    }
   ],
   "source": [
    "eag = ebm_agent(llm_gpt4,ebm,df = df,dataset_description = dataset_description,y_axis_description = y_axis_description)"
   ]
  },
  {
   "cell_type": "code",
   "execution_count": 11,
   "metadata": {},
   "outputs": [
    {
     "name": "stdout",
     "output_type": "stream",
     "text": [
      "\n",
      "\n",
      "\u001b[1m> Entering new AgentExecutor chain...\u001b[0m\n",
      "\u001b[32;1m\u001b[1;3mThought: The model is a Generalized Additive Model (GAM) trained on a dataset about a fictional event in the future where a spaceship called Titanic collided with a spacetime anomaly and half of the passengers were transported to an alternate dimension. The task of the model is to predict whether a passenger was transported to the alternate dimension based on a set of features. The features include:\n",
      "\n",
      "1. PassengerId: A unique Id for each passenger.\n",
      "2. HomePlanet: The planet the passenger departed from.\n",
      "3. CryoSleep: Indicates whether the passenger elected to be put into suspended animation for the duration of the voyage.\n",
      "4. Cabin: The cabin number where the passenger is staying.\n",
      "5. Destination: The planet the passenger will be debarking to.\n",
      "6. Age: The age of the passenger.\n",
      "7. VIP: Whether the passenger has paid for special VIP service during the voyage.\n",
      "8. RoomService, FoodCourt, ShoppingMall, Spa, VRDeck: Amount the passenger has billed at each of the Spaceship Titanic's many luxury amenities.\n",
      "9. Name: The first and last names of the passenger.\n",
      "\n",
      "The model uses these features to predict the probability of a passenger being transported to an alternate dimension. The global feature importances indicate how much each feature contributes to the model's predictions. The higher the importance, the more impact the feature has on the prediction.\n",
      "\n",
      "Final Answer: The model is a Generalized Additive Model (GAM) trained on a dataset about a fictional event in the future where a spaceship called Titanic collided with a spacetime anomaly and half of the passengers were transported to an alternate dimension. The task of the model is to predict whether a passenger was transported to the alternate dimension based on a set of features. The features include PassengerId, HomePlanet, CryoSleep, Cabin, Destination, Age, VIP, RoomService, FoodCourt, ShoppingMall, Spa, VRDeck, and Name. The global feature importances indicate how much each feature contributes to the model's predictions. The higher the importance, the more impact the feature has on the prediction.\u001b[0m\n",
      "\n",
      "\u001b[1m> Finished chain.\u001b[0m\n"
     ]
    },
    {
     "data": {
      "text/plain": [
       "\"The model is a Generalized Additive Model (GAM) trained on a dataset about a fictional event in the future where a spaceship called Titanic collided with a spacetime anomaly and half of the passengers were transported to an alternate dimension. The task of the model is to predict whether a passenger was transported to the alternate dimension based on a set of features. The features include PassengerId, HomePlanet, CryoSleep, Cabin, Destination, Age, VIP, RoomService, FoodCourt, ShoppingMall, Spa, VRDeck, and Name. The global feature importances indicate how much each feature contributes to the model's predictions. The higher the importance, the more impact the feature has on the prediction.\""
      ]
     },
     "execution_count": 11,
     "metadata": {},
     "output_type": "execute_result"
    }
   ],
   "source": [
    "eag.run(\"Tell me in a few words what you know about this model and its features.\")"
   ]
  }
 ],
 "metadata": {
  "kernelspec": {
   "display_name": "base",
   "language": "python",
   "name": "python3"
  },
  "language_info": {
   "codemirror_mode": {
    "name": "ipython",
    "version": 3
   },
   "file_extension": ".py",
   "mimetype": "text/x-python",
   "name": "python",
   "nbconvert_exporter": "python",
   "pygments_lexer": "ipython3",
   "version": "3.10.11"
  },
  "orig_nbformat": 4
 },
 "nbformat": 4,
 "nbformat_minor": 2
}
